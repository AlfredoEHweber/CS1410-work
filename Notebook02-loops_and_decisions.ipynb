{
  "cells": [
    {
      "cell_type": "markdown",
      "metadata": {
        "id": "qYXbKAzRMfac"
      },
      "source": [
        "<a target=\"_blank\" href=\"https://colab.research.google.com/github/WSU-CS1410-AA/cs1410-notebooks/blob/main/Notebook02-loops_and_decisions.ipynb\">\n",
        "  <img src=\"https://colab.research.google.com/assets/colab-badge.svg\" alt=\"Open In Colab\"/>\n",
        "</a>"
      ]
    },
    {
      "cell_type": "markdown",
      "metadata": {
        "id": "h7ILcZaPkpXX"
      },
      "source": [
        "# Loops\n",
        "We use loops to repeat things over and over. C++, like many other languages, supports three kinds of loops: the `for` loop, the `while` loop, and the `do-while` loop. As of C++11, a forth special loop named the **range-based** `for` loop was added; we will see this new loop later in class."
      ]
    },
    {
      "cell_type": "markdown",
      "metadata": {
        "id": "DgGJiVhKMfah"
      },
      "source": [
        "## The `for` loop\n",
        "\n",
        "The `for` loop is perhaps the most popular. It takes the following form:\n",
        "\n",
        "```c++\n",
        "// For repeating a single statement\n",
        "for(initialize; test; increment)\n",
        "  Statement;\n",
        "```\n",
        "or\n",
        "```c++\n",
        "// For repeating one or more statements\n",
        "for(initialize; test; increment){\n",
        "  Statement(s);\n",
        "}\n",
        "```\n",
        "\n",
        "To control how many times the statement(s) is(are) repeated, the `for` loop uses a loop variable which is initialized in the `initialize` part of the loop, incremented (or decremented) in the `increment` part. The `test` part is a boolean expression (or a condition) that when `true` allows the loop to continue and when `false` terminates it."
      ]
    },
    {
      "cell_type": "markdown",
      "metadata": {
        "id": "pmP3zwpfMfaj"
      },
      "source": [
        "Let's play a bit with the `for` loop. Here is a simple program repeating the following statement `12` times:\n",
        "\n",
        "```cpp\n",
        "cout << \"Welcome to C++ programming!\" << endl;\n",
        "```"
      ]
    },
    {
      "cell_type": "code",
      "execution_count": 1,
      "metadata": {
        "colab": {
          "base_uri": "https://localhost:8080/"
        },
        "id": "JgL0w8pPMfak",
        "outputId": "e0c9ce94-6720-4303-d085-8713761ac0f9"
      },
      "outputs": [
        {
          "output_type": "stream",
          "name": "stdout",
          "text": [
            "Writing ex01.cpp\n"
          ]
        }
      ],
      "source": [
        "%%writefile ex01.cpp\n",
        "\n",
        "#include <iostream>\n",
        "using namespace std;\n",
        "\n",
        "int main(){\n",
        "  for(int i = 1; i <= 12; i++){\n",
        "    cout << \"Welcome to C++ programming!\" << endl;\n",
        "  }\n",
        "\n",
        "  return 0;\n",
        "}"
      ]
    },
    {
      "cell_type": "code",
      "execution_count": 2,
      "metadata": {
        "colab": {
          "base_uri": "https://localhost:8080/"
        },
        "id": "g9anK__TNCZq",
        "outputId": "43d030d6-bed4-439a-e44a-aeb6fbcec0a7"
      },
      "outputs": [
        {
          "output_type": "stream",
          "name": "stdout",
          "text": [
            "Welcome to C++ programming!\n",
            "Welcome to C++ programming!\n",
            "Welcome to C++ programming!\n",
            "Welcome to C++ programming!\n",
            "Welcome to C++ programming!\n",
            "Welcome to C++ programming!\n",
            "Welcome to C++ programming!\n",
            "Welcome to C++ programming!\n",
            "Welcome to C++ programming!\n",
            "Welcome to C++ programming!\n",
            "Welcome to C++ programming!\n",
            "Welcome to C++ programming!\n"
          ]
        }
      ],
      "source": [
        "!g++ -std=c++17 ex01.cpp -o ex01\n",
        "!./ex01"
      ]
    },
    {
      "cell_type": "markdown",
      "metadata": {
        "id": "rFZPAzl5Mfak"
      },
      "source": [
        "It's important with regard to the `for` loop to know that:\n",
        "* The **initialize** part (`int i = 1`) runs only once before the first iteration. And because the loop variable `i` is defined within the `for` loop, it's only recognizable within the loop; outside the loop; it does not exist.\n",
        "* The **test** part (`i <= 12`) runs at the beginning of every iteration; that is it runs as many times as number of iterations.\n",
        "* The **increment** part (`i++`) runs after every iteration; it also runs as many times as the number of iterations.\n",
        "\n",
        "Here are other example `for` loops:"
      ]
    },
    {
      "cell_type": "code",
      "execution_count": 3,
      "metadata": {
        "colab": {
          "base_uri": "https://localhost:8080/"
        },
        "id": "takqUlIVMfal",
        "outputId": "80e10e02-f6dc-4962-a66f-2c7d52cb5b27"
      },
      "outputs": [
        {
          "output_type": "stream",
          "name": "stdout",
          "text": [
            "Writing ex02.cpp\n"
          ]
        }
      ],
      "source": [
        "%%writefile ex02.cpp\n",
        "\n",
        "#include <iostream>\n",
        "using namespace std;\n",
        "\n",
        "int main(){\n",
        "\n",
        "  // Counting up\n",
        "  for(int i = 0; i < 10; i++){\n",
        "    cout << i;\n",
        "  }\n",
        "  cout << endl;\n",
        "\n",
        "  for(int k = 0; k < 4; k++){\n",
        "    cout << \"Hi\" << endl;\n",
        "  }\n",
        "\n",
        "  // Counting down\n",
        "  for(int j = 9; j >= 0; j--){\n",
        "    cout << j;\n",
        "  }\n",
        "  cout << endl;\n",
        "\n",
        "  return 0;\n",
        "}"
      ]
    },
    {
      "cell_type": "code",
      "execution_count": 4,
      "metadata": {
        "colab": {
          "base_uri": "https://localhost:8080/"
        },
        "id": "raFkn-cEOA9S",
        "outputId": "4d6d808c-5473-484f-ab4e-f4df99eb4a0e"
      },
      "outputs": [
        {
          "output_type": "stream",
          "name": "stdout",
          "text": [
            "0123456789\n",
            "Hi\n",
            "Hi\n",
            "Hi\n",
            "Hi\n",
            "9876543210\n"
          ]
        }
      ],
      "source": [
        "!g++ -std=c++17 ex02.cpp -o ex02\n",
        "!./ex02"
      ]
    },
    {
      "cell_type": "markdown",
      "metadata": {
        "id": "GfWMjTisMfal"
      },
      "source": [
        "## CODING CHALLENGE 1\n",
        "In the code cell below, refactor (re-write) the following loop such that the loop variable `i` goes down from say 12 to 1.\n",
        "\n",
        "``` c++\n",
        "for(int i = 1; i <= 12; i++){\n",
        "  cout << \"Welcome to C++ programming!\" << endl;\n",
        "}\n",
        "```"
      ]
    },
    {
      "cell_type": "code",
      "execution_count": 49,
      "metadata": {
        "colab": {
          "base_uri": "https://localhost:8080/"
        },
        "id": "31hpGwI7Mfal",
        "outputId": "b4fab41c-4bcb-4a99-c9cd-a60ec7146a19"
      },
      "outputs": [
        {
          "output_type": "stream",
          "name": "stdout",
          "text": [
            "Overwriting ch01.cpp\n"
          ]
        }
      ],
      "source": [
        "%%writefile ch01.cpp\n",
        "\n",
        "#include <iostream>\n",
        "using namespace std;\n",
        "\n",
        "int main(){\n",
        "  for(int i = 12; i >= 1; i--){\n",
        "    cout << \"Welcome to C++ programming!\" << endl;\n",
        "  }\n",
        "\n",
        "  return 0;\n",
        "}"
      ]
    },
    {
      "cell_type": "code",
      "execution_count": 50,
      "metadata": {
        "colab": {
          "base_uri": "https://localhost:8080/"
        },
        "id": "yDWR0pLZPZks",
        "outputId": "f4a4a48c-2d94-4f7e-9110-52626fad978b"
      },
      "outputs": [
        {
          "output_type": "stream",
          "name": "stdout",
          "text": [
            "Welcome to C++ programming!\n",
            "Welcome to C++ programming!\n",
            "Welcome to C++ programming!\n",
            "Welcome to C++ programming!\n",
            "Welcome to C++ programming!\n",
            "Welcome to C++ programming!\n",
            "Welcome to C++ programming!\n",
            "Welcome to C++ programming!\n",
            "Welcome to C++ programming!\n",
            "Welcome to C++ programming!\n",
            "Welcome to C++ programming!\n",
            "Welcome to C++ programming!\n"
          ]
        }
      ],
      "source": [
        "!g++ -std=c++17 ch01.cpp -o ch01\n",
        "!./ch01"
      ]
    },
    {
      "cell_type": "markdown",
      "metadata": {
        "id": "25ccfGzOMfal"
      },
      "source": [
        "## The `while` loop\n",
        "The `while` loop is the most general loop of all three. It takes the following form:\n",
        "\n",
        "```c++\n",
        "// For repeating a single statement\n",
        "while(test)\n",
        "  Statement;\n",
        "```\n",
        "or\n",
        "```c++\n",
        "// For repeating one or more statements\n",
        "while(test){\n",
        "  Statement(s);\n",
        "}\n",
        "```\n",
        "\n",
        "It keeps running until the test condition is `false`. Here are a few example `while` loops. Compare these examples to those of the `for` loop."
      ]
    },
    {
      "cell_type": "code",
      "execution_count": 7,
      "metadata": {
        "colab": {
          "base_uri": "https://localhost:8080/"
        },
        "id": "091QmZ3XMfam",
        "outputId": "74f87cf0-7ae1-4fa2-a8a3-bbd8e1741a8c"
      },
      "outputs": [
        {
          "output_type": "stream",
          "name": "stdout",
          "text": [
            "Writing ex03.cpp\n"
          ]
        }
      ],
      "source": [
        "%%writefile ex03.cpp\n",
        "\n",
        "#include <iostream>\n",
        "using namespace std;\n",
        "\n",
        "int main(){\n",
        "\n",
        "  // Counting up\n",
        "  int i = 0;\n",
        "  while(i < 10){\n",
        "    cout << i;\n",
        "    i++;\n",
        "  }\n",
        "  cout << endl;\n",
        "\n",
        "  int k = 0;\n",
        "  while(k < 4){\n",
        "    cout << \"Hi\\n\";\n",
        "    k++;\n",
        "  }\n",
        "\n",
        "  // Counting down\n",
        "  int j = 9;\n",
        "  while(j >= 0){\n",
        "    cout << j;\n",
        "    j--;\n",
        "  }\n",
        "\n",
        "  return 0;\n",
        "}"
      ]
    },
    {
      "cell_type": "code",
      "execution_count": 8,
      "metadata": {
        "colab": {
          "base_uri": "https://localhost:8080/"
        },
        "id": "taQfCoHuPcGc",
        "outputId": "0f089b65-4c05-4809-ccb0-0bb9fd9c5ea0"
      },
      "outputs": [
        {
          "output_type": "stream",
          "name": "stdout",
          "text": [
            "0123456789\n",
            "Hi\n",
            "Hi\n",
            "Hi\n",
            "Hi\n",
            "9876543210"
          ]
        }
      ],
      "source": [
        "!g++ -std=c++17 ex03.cpp -o ex03\n",
        "!./ex03"
      ]
    },
    {
      "cell_type": "markdown",
      "metadata": {
        "id": "MoHKxTLjkWS4"
      },
      "source": [
        "Both the `for` and the `while` loops are **pre-test** loops, meaning that the conditions are evaluated before every iteration."
      ]
    },
    {
      "cell_type": "markdown",
      "metadata": {
        "id": "3sVcT0FhlBa5"
      },
      "source": [
        "## CODING CHALLENGE 2\n",
        "\n",
        "Replace the `for` loop in the program below with a `while` loop. Make sure the program still works the same."
      ]
    },
    {
      "cell_type": "code",
      "execution_count": 9,
      "metadata": {
        "colab": {
          "base_uri": "https://localhost:8080/"
        },
        "id": "8QMweKZQkazw",
        "outputId": "aac5a365-6c5a-4a59-84bd-6d4912495d31"
      },
      "outputs": [
        {
          "output_type": "stream",
          "name": "stdout",
          "text": [
            "Writing ch02.cpp\n"
          ]
        }
      ],
      "source": [
        "%%writefile ch02.cpp\n",
        "\n",
        "#include <iostream>\n",
        "using namespace std;\n",
        "\n",
        "int main(){\n",
        "\n",
        "  int j = 20;                 // initialize before loop\n",
        "  while(j > 0){\n",
        "    cout << j << \": \" << j * 5 << endl;\n",
        "    j -= 2;\n",
        "  }\n",
        "\n",
        "  return 0;\n",
        "}\n",
        "\n"
      ]
    },
    {
      "cell_type": "code",
      "execution_count": 10,
      "metadata": {
        "colab": {
          "base_uri": "https://localhost:8080/"
        },
        "id": "8iaLAlXHkaXL",
        "outputId": "cc580ab3-ee30-4efd-d8f4-325773139036"
      },
      "outputs": [
        {
          "output_type": "stream",
          "name": "stdout",
          "text": [
            "20: 100\n",
            "18: 90\n",
            "16: 80\n",
            "14: 70\n",
            "12: 60\n",
            "10: 50\n",
            "8: 40\n",
            "6: 30\n",
            "4: 20\n",
            "2: 10\n"
          ]
        }
      ],
      "source": [
        "!g++ -std=c++17 ch02.cpp -o ch02\n",
        "!./ch02"
      ]
    },
    {
      "cell_type": "markdown",
      "metadata": {
        "id": "7eSrxg2nk7nd"
      },
      "source": []
    },
    {
      "cell_type": "markdown",
      "metadata": {
        "id": "FPRTXEWtMfam"
      },
      "source": [
        "\n",
        "\n",
        "## The `do-while` loop\n",
        "This loop is similar to the `while` loop with one exception: it guarantees that its statement(s) will run at least once. It takes the following form:\n",
        "\n",
        "```c++\n",
        "// For repeating a single statement\n",
        "do\n",
        "  Statement;\n",
        "while(condition);\n",
        "```\n",
        "or\n",
        "\n",
        "```c++\n",
        "// For repeating one or more statements\n",
        "do{\n",
        "  Statement(s);\n",
        "} while(test);\n",
        "```\n",
        "Here are a few example `do-while` loops. Again compare these examples to those of the `while` and the `for` loops."
      ]
    },
    {
      "cell_type": "code",
      "execution_count": 11,
      "metadata": {
        "colab": {
          "base_uri": "https://localhost:8080/"
        },
        "id": "Ryb6vvvpMfam",
        "outputId": "78e3a3ff-dbde-431c-e9ea-292f9ffeacfb"
      },
      "outputs": [
        {
          "output_type": "stream",
          "name": "stdout",
          "text": [
            "Writing ex04.cpp\n"
          ]
        }
      ],
      "source": [
        "%%writefile ex04.cpp\n",
        "\n",
        "#include <iostream>\n",
        "using namespace std;\n",
        "\n",
        "int main(){\n",
        "\n",
        "  // Counting up\n",
        "  int i = 0;\n",
        "  do{\n",
        "    cout << i;\n",
        "    i++;\n",
        "  } while(i < 10);\n",
        "  cout << endl;\n",
        "\n",
        "  int k = 0;\n",
        "  do{\n",
        "    cout << \"Hi\\n\";\n",
        "    k++;\n",
        "  } while(k < 4);\n",
        "\n",
        "  // Counting down\n",
        "  int j = 9;\n",
        "  do{\n",
        "    cout << j;\n",
        "    j--;\n",
        "  } while(j >= 0);\n",
        "\n",
        "  return 0;\n",
        "}"
      ]
    },
    {
      "cell_type": "code",
      "execution_count": 12,
      "metadata": {
        "colab": {
          "base_uri": "https://localhost:8080/"
        },
        "id": "tp_FuFePPfL-",
        "outputId": "f21a47d3-2098-4c9d-e53f-bc852d5c9698"
      },
      "outputs": [
        {
          "output_type": "stream",
          "name": "stdout",
          "text": [
            "0123456789\n",
            "Hi\n",
            "Hi\n",
            "Hi\n",
            "Hi\n",
            "9876543210"
          ]
        }
      ],
      "source": [
        "!g++ -std=c++17 ex04.cpp -o ex04\n",
        "!./ex04"
      ]
    },
    {
      "cell_type": "markdown",
      "metadata": {
        "id": "T6mcSfwdMfan"
      },
      "source": [
        "**Notice that** while the curly braces `{` and `}` are only required when the body of any of these `for`, `while` and `do while` loops contains more than one statement, it's highly recommended that you use them all the time.\n",
        "\n",
        "Notice also that, unlike the `for` and `while` loops, the `do while` loop is a **post-test** loop; the condition is evaluated after every iteration.\n",
        "\n",
        "## Using `setw` to organize output into tables\n",
        "The code cell below attempts to generate a data table like this:\n",
        "\n",
        "| x | 2 * x | 3 * x | 4 * x | 5 * x |\n",
        "| - | ----- | ----- | ----- | ----- |\n",
        "| 1 | 2     | 3     | 4     | 5     |\n",
        "| 2 | 4     | 6     | 8     | 10    |\n",
        "| 3 | 6     | 9     | 12    | 15    |\n",
        "| 4 | 8     | 12    | 16    | 20    |\n",
        "| 5 | 10    | 15    | 20    | 25    |"
      ]
    },
    {
      "cell_type": "code",
      "execution_count": 13,
      "metadata": {
        "colab": {
          "base_uri": "https://localhost:8080/"
        },
        "id": "sYhwtKQjMfan",
        "outputId": "5b24fb65-053e-4290-bc56-2824f3aaa7a1"
      },
      "outputs": [
        {
          "output_type": "stream",
          "name": "stdout",
          "text": [
            "Writing ex05.cpp\n"
          ]
        }
      ],
      "source": [
        "%%writefile ex05.cpp\n",
        "\n",
        "#include <iostream>\n",
        "using namespace std;\n",
        "\n",
        "int main(){\n",
        "  cout << \"x\" << \"2*x\" << \"3*x\" << \"4*x\" << \"5*x\" << endl;\n",
        "  for(int x = 1; x <= 5; x++){\n",
        "    cout << x;\n",
        "    for(int y = 2; y <= 5; y++){\n",
        "        cout << x * y;\n",
        "    }\n",
        "\n",
        "    cout << endl;\n",
        "  }\n",
        "\n",
        "  return 0;\n",
        "}"
      ]
    },
    {
      "cell_type": "code",
      "execution_count": 14,
      "metadata": {
        "colab": {
          "base_uri": "https://localhost:8080/"
        },
        "id": "nMQfqgfiQOW3",
        "outputId": "4bfc74d3-80f3-4528-cd0f-275092ada251"
      },
      "outputs": [
        {
          "output_type": "stream",
          "name": "stdout",
          "text": [
            "x2*x3*x4*x5*x\n",
            "12345\n",
            "246810\n",
            "3691215\n",
            "48121620\n",
            "510152025\n"
          ]
        }
      ],
      "source": [
        "!g++ -std=c++17 ex05.cpp -o ex05\n",
        "!./ex05"
      ]
    },
    {
      "cell_type": "markdown",
      "metadata": {
        "id": "KPLs3j9VMfan"
      },
      "source": [
        "The output above has the correct data; but it does not look like a table; it lacks the proper spacing. Instead of spacing the data manually, we can use `setw` to do that. All we have to do is:\n",
        "* include the `<iomanip>` header file\n",
        "* determine the width of each column by coming up with width numbers that we think would make the table look nice\n",
        "* call `setw` before displaying any text or number and pass it the width of the column that text or number belongs to\n",
        "\n",
        "By doing this, `setw` will take care of the spacing for us. Here the same code as before but with `setw`."
      ]
    },
    {
      "cell_type": "code",
      "execution_count": 15,
      "metadata": {
        "colab": {
          "base_uri": "https://localhost:8080/"
        },
        "id": "ncf-xMhkMfan",
        "outputId": "4f5017a7-3ee5-4aaa-c5ad-2332773416ce"
      },
      "outputs": [
        {
          "output_type": "stream",
          "name": "stdout",
          "text": [
            "Writing ex06.cpp\n"
          ]
        }
      ],
      "source": [
        "%%writefile ex06.cpp\n",
        "\n",
        "#include <iostream>\n",
        "#include <iomanip>\n",
        "\n",
        "using namespace std;\n",
        "\n",
        "int main(){\n",
        "  cout << setw(4) << \"x\" << setw(6) << \"2*x\" << setw(6) <<\"3*x\" << setw(6) <<\"4*x\" << setw(6) << \"5*x\" << endl;\n",
        "  for(int x = 1; x <= 5; x++){\n",
        "    cout << setw(4) << x;\n",
        "    for(int y = 2; y <= 5; y++){\n",
        "        cout << setw(6) << x * y;\n",
        "    }\n",
        "\n",
        "    cout << endl;\n",
        "  }\n",
        "\n",
        "  return 0;\n",
        "}"
      ]
    },
    {
      "cell_type": "code",
      "execution_count": 16,
      "metadata": {
        "colab": {
          "base_uri": "https://localhost:8080/"
        },
        "id": "L1qtuXsKQQT3",
        "outputId": "4431f636-f2dd-4729-bf9b-b8c234d2f57f"
      },
      "outputs": [
        {
          "output_type": "stream",
          "name": "stdout",
          "text": [
            "   x   2*x   3*x   4*x   5*x\n",
            "   1     2     3     4     5\n",
            "   2     4     6     8    10\n",
            "   3     6     9    12    15\n",
            "   4     8    12    16    20\n",
            "   5    10    15    20    25\n"
          ]
        }
      ],
      "source": [
        "!g++ -std=c++17 ex06.cpp -o ex06\n",
        "!./ex06"
      ]
    },
    {
      "cell_type": "markdown",
      "metadata": {
        "id": "zjIWblXPMfao"
      },
      "source": [
        "Now, that looks like a table. Notice that we called `setw` before displaying each value and that we passed the width of the column as an argument to `setw`. *In this example, the first column is 4-spaces wide and all the remaining columns are 6-spaces wide each*. Play with different column widths.\n",
        "\n",
        "Notice also:\n",
        "* how each row in this table has the same number of columns;\n",
        "* the same column has the width in every row; and\n",
        "* we use `endl` to terminate a row."
      ]
    },
    {
      "cell_type": "markdown",
      "metadata": {
        "id": "fwrqvCapMfao"
      },
      "source": [
        "## CODING CHALLENGE 3\n",
        "Replace the `for` loop in the program below with a `do-while` loop. Make sure the program still works the same."
      ]
    },
    {
      "cell_type": "code",
      "execution_count": 17,
      "metadata": {
        "colab": {
          "base_uri": "https://localhost:8080/"
        },
        "id": "Uj-uB4oMMfao",
        "outputId": "9ce00391-bcb4-4e16-acd7-57baec685318"
      },
      "outputs": [
        {
          "output_type": "stream",
          "name": "stdout",
          "text": [
            "Writing ch03.cpp\n"
          ]
        }
      ],
      "source": [
        "%%writefile ch03.cpp\n",
        "\n",
        "#include <iostream>\n",
        "using namespace std;\n",
        "\n",
        "int main(){\n",
        "\n",
        "  int j = 20;                     // initialize before loop\n",
        "  do {\n",
        "    cout << j << \": \" << j * 5 << endl;\n",
        "    j -= 2;                       // update inside loop\n",
        "  } while (j > 0);                 // condition checked after\n",
        "\n",
        "  return 0;\n",
        "}\n"
      ]
    },
    {
      "cell_type": "code",
      "execution_count": 18,
      "metadata": {
        "colab": {
          "base_uri": "https://localhost:8080/"
        },
        "id": "88MWiLxrm5CC",
        "outputId": "1c822b59-c89a-4fe6-a9a6-70d36f47c642"
      },
      "outputs": [
        {
          "output_type": "stream",
          "name": "stdout",
          "text": [
            "20: 100\n",
            "18: 90\n",
            "16: 80\n",
            "14: 70\n",
            "12: 60\n",
            "10: 50\n",
            "8: 40\n",
            "6: 30\n",
            "4: 20\n",
            "2: 10\n"
          ]
        }
      ],
      "source": [
        "!g++ -std=c++17 ch03.cpp -o ch03\n",
        "!./ch03"
      ]
    },
    {
      "cell_type": "markdown",
      "metadata": {
        "id": "wBwk-ThBpDZK"
      },
      "source": [
        "# Decisions"
      ]
    },
    {
      "cell_type": "markdown",
      "metadata": {
        "id": "9rwihqkuMfao"
      },
      "source": [
        "## The `if-else` statement\n",
        "\n",
        "C++, like other languages supports the `if-else` conditional statement(s). If you only care about when a condition is `true`, then use the `if` conditional statement which looks like this:\n",
        "\n",
        "``` c++\n",
        "// if with a single statement.\n",
        "if(condition)\n",
        "  Statement;\n",
        "```\n",
        "or\n",
        "```c++\n",
        "// if with one or more statements.\n",
        "if(condition){\n",
        "  Statement(s);\n",
        "}\n",
        "```\n",
        "\n",
        "However, if you have a different logic for when the condition is `true` from that when is `false`, then use the `if-else` conditional statement which looks like this:\n",
        "``` c++\n",
        "// if-else with a single statement.\n",
        "if(condition)\n",
        "  Statement;\n",
        "else\n",
        "  Statement;\n",
        "```\n",
        "or\n",
        "```c++\n",
        "// if-else with one or more statements.\n",
        "if(condition){\n",
        "  Statement(s);\n",
        "}else{\n",
        "  Statement(s);\n",
        "}\n",
        "```\n",
        "\n",
        "Here is an example of finding the minimum of two entered numbers."
      ]
    },
    {
      "cell_type": "code",
      "execution_count": 19,
      "metadata": {
        "colab": {
          "base_uri": "https://localhost:8080/"
        },
        "id": "JkjtesXcMfap",
        "outputId": "e0337bb7-c8b3-4745-ad43-158aa0bd5fa6"
      },
      "outputs": [
        {
          "output_type": "stream",
          "name": "stdout",
          "text": [
            "Writing ex07.cpp\n"
          ]
        }
      ],
      "source": [
        "%%writefile ex07.cpp\n",
        "\n",
        "#include <iostream>\n",
        "using namespace std;\n",
        "\n",
        "int main(){\n",
        "  double x, y;\n",
        "  cout << \"Enter two decimal members: \";\n",
        "  cin >> x >> y;\n",
        "\n",
        "  if(y > x){\n",
        "    cout << \"Minimum: \" << x << endl;\n",
        "  }else{\n",
        "    cout << \"Minimum: \" << y << endl;\n",
        "  }\n",
        "\n",
        "  return 0;\n",
        "}"
      ]
    },
    {
      "cell_type": "code",
      "execution_count": 20,
      "metadata": {
        "colab": {
          "base_uri": "https://localhost:8080/"
        },
        "id": "eQGWJBiInRg1",
        "outputId": "0d4cd877-da62-433e-db56-ec07f88f9558"
      },
      "outputs": [
        {
          "output_type": "stream",
          "name": "stdout",
          "text": [
            "Enter two decimal members: ^C\n"
          ]
        }
      ],
      "source": [
        "!g++ -std=c++17 ex07.cpp -o ex07\n",
        "!./ex07"
      ]
    },
    {
      "cell_type": "markdown",
      "metadata": {
        "id": "VwdlhdJLMfap"
      },
      "source": [
        "And if we want to display the results in a table-like format like:\n",
        "\n",
        "|  x  |  y  | Minimum |\n",
        "| --- | --- | ------- |\n",
        "| 4.5 | 3.9 | 3.9     |\n",
        "\n",
        "we use `setw` like this:"
      ]
    },
    {
      "cell_type": "code",
      "execution_count": 21,
      "metadata": {
        "colab": {
          "base_uri": "https://localhost:8080/"
        },
        "id": "usmARsfJMfap",
        "outputId": "973121a9-6aaf-4683-8eff-f4c2e2d3baad"
      },
      "outputs": [
        {
          "output_type": "stream",
          "name": "stdout",
          "text": [
            "Writing ex08.cpp\n"
          ]
        }
      ],
      "source": [
        "%%writefile ex08.cpp\n",
        "\n",
        "#include <iostream>\n",
        "#include <iomanip>\n",
        "\n",
        "using namespace std;\n",
        "\n",
        "int main(){\n",
        "  double x, y;\n",
        "\n",
        "  cout << \"Enter two decimal members: \";\n",
        "  cin >> x >> y;\n",
        "\n",
        "  cout << setw(9) << \"x\" << setw(9) << \"y\" << setw(12) << \"Minimum\" << endl;\n",
        "  cout << setw(9) << x << setw(9) << y;\n",
        "  if(y > x){\n",
        "    cout << setw(12) << x << endl;\n",
        "  }else{\n",
        "    cout << setw(12) << y << endl;\n",
        "  }\n",
        "\n",
        "  return 0;\n",
        "}"
      ]
    },
    {
      "cell_type": "code",
      "execution_count": 22,
      "metadata": {
        "colab": {
          "base_uri": "https://localhost:8080/"
        },
        "id": "vohjYxCVnYxh",
        "outputId": "3b18e792-8264-4d44-c5d4-4674985053f5"
      },
      "outputs": [
        {
          "output_type": "stream",
          "name": "stdout",
          "text": [
            "Enter two decimal members: ^C\n"
          ]
        }
      ],
      "source": [
        "!g++ -std=c++17 ex08.cpp -o ex08\n",
        "!./ex08"
      ]
    },
    {
      "cell_type": "code",
      "execution_count": 22,
      "metadata": {
        "id": "Ny7G3Q6BogI6"
      },
      "outputs": [],
      "source": []
    },
    {
      "cell_type": "markdown",
      "metadata": {
        "id": "i_RXueKnMfap"
      },
      "source": [
        "**Notice also that** while the curly braces `{` and `}` are only required when the body of `if` or `else` contains more than one statement, it's highly recommended that you use them all the time.\n",
        "\n",
        "## CODING CHALLENGE 4\n",
        "Change the program below so that it displays both the minimum and maximum nicely formatted in a table like this:\n",
        "\n",
        "|  x  |  y  | Minimum | Maximum |\n",
        "| --- | --- | ------- | ------- |\n",
        "| 4.5 | 3.9 | 3.9     | 4.5    |"
      ]
    },
    {
      "cell_type": "code",
      "execution_count": 23,
      "metadata": {
        "colab": {
          "base_uri": "https://localhost:8080/"
        },
        "id": "OsgCs1eoMfap",
        "outputId": "d58229fc-e4bc-4ae4-a3ce-cc95c8d41328"
      },
      "outputs": [
        {
          "output_type": "stream",
          "name": "stdout",
          "text": [
            "Writing ch04.cpp\n"
          ]
        }
      ],
      "source": [
        "%%writefile ch04.cpp\n",
        "\n",
        "#include <iostream>\n",
        "#include <iomanip>   // for setw\n",
        "using namespace std;\n",
        "\n",
        "int main(){\n",
        "  double x, y;\n",
        "  cout << \"Enter two decimal numbers: \";\n",
        "  cin >> x >> y;\n",
        "\n",
        "  double minimum, maximum;\n",
        "  if(y > x){\n",
        "    minimum = x;\n",
        "    maximum = y;\n",
        "  } else {\n",
        "    minimum = y;\n",
        "    maximum = x;\n",
        "  }\n",
        "\n",
        "  // Display results in a table\n",
        "  cout << endl;\n",
        "  cout << left << setw(10) << \"Value\" << setw(10) << \"Result\" << endl;\n",
        "  cout << left << setw(10) << \"Minimum\" << setw(10) << minimum << endl;\n",
        "  cout << left << setw(10) << \"Maximum\" << setw(10) << maximum << endl;\n",
        "\n",
        "  return 0;\n",
        "}\n"
      ]
    },
    {
      "cell_type": "code",
      "execution_count": 24,
      "metadata": {
        "colab": {
          "base_uri": "https://localhost:8080/"
        },
        "id": "HfPHa-hsnaPo",
        "outputId": "732cc16b-bafe-4855-f4ed-d54f9845d532"
      },
      "outputs": [
        {
          "output_type": "stream",
          "name": "stdout",
          "text": [
            "Enter two decimal members: ^C\n"
          ]
        }
      ],
      "source": [
        "!g++ -std=c++17 ch04.cpp -o ch04\n",
        "!./ch04"
      ]
    },
    {
      "cell_type": "markdown",
      "metadata": {
        "id": "dEZ6kpdQMfaq"
      },
      "source": [
        "## The `if-else-if` statement\n",
        "Sometimes you have more than one condition to evaluate in the same statement. In this case we use the `if-else-if` conditional statement which looks like the following:\n",
        "\n",
        "``` c++\n",
        "// if-else-if with a single statement.\n",
        "if(condition1)\n",
        "  Statement;\n",
        "else if(condition2)\n",
        "  Statement;\n",
        "else\n",
        "  Statement;\n",
        "```\n",
        "or\n",
        "```c++\n",
        "// if-else-if with one or more statements.\n",
        "if(condition1){\n",
        "  Statement(s);\n",
        "}else if(condition2){\n",
        "  Statement(s);\n",
        "}else{\n",
        "  Statement(s);\n",
        "}\n",
        "```\n",
        "\n",
        "Every `if-else-if` statement has:\n",
        "* a required `if` clause at the beginning;\n",
        "* an optional `else` clause at the end; and\n",
        "* one or more `else if` clauses in between.\n",
        "\n",
        "Here is an example of using multiple `else if` clauses to display the name of day based on an entered number between 1 and 7 with 1 representing Sunday, 2 Monday, and so on."
      ]
    },
    {
      "cell_type": "code",
      "execution_count": 25,
      "metadata": {
        "colab": {
          "base_uri": "https://localhost:8080/"
        },
        "id": "ZS-qo7LiMfaq",
        "outputId": "9f8b9614-f1e5-42c0-c80f-a55e53679ea9",
        "scrolled": false
      },
      "outputs": [
        {
          "output_type": "stream",
          "name": "stdout",
          "text": [
            "Writing ex09.cpp\n"
          ]
        }
      ],
      "source": [
        "%%writefile ex09.cpp\n",
        "\n",
        "#include <iostream>\n",
        "\n",
        "using namespace std;\n",
        "\n",
        "int main(){\n",
        "  int day;\n",
        "  cout << \"Enter a day number (between 1 and 7):\" << endl;\n",
        "  cin >> day;\n",
        "\n",
        "  if (day == 1){ cout << \"Sunday\"; }\n",
        "  else if (day == 2){ cout << \"Monday\"; }\n",
        "  else if (day == 3){ cout << \"Tuesday\"; }\n",
        "  else if (day == 4){ cout << \"Wednesday\"; }\n",
        "  else if (day == 5){ cout << \"Thursday\"; }\n",
        "  else if (day == 6){ cout << \"Friday\"; }\n",
        "  else if (day == 7){ cout << \"Saturday\"; }\n",
        "  else { cout << \"invalid day\"; }\n",
        "\n",
        "  return 0;\n",
        "}"
      ]
    },
    {
      "cell_type": "code",
      "execution_count": 26,
      "metadata": {
        "colab": {
          "base_uri": "https://localhost:8080/"
        },
        "id": "HeCgXD0rncvx",
        "outputId": "d7a3d76b-14b7-454b-a00e-f95ea9b0b622"
      },
      "outputs": [
        {
          "output_type": "stream",
          "name": "stdout",
          "text": [
            "Enter a day number (between 1 and 7):\n",
            "^C\n"
          ]
        }
      ],
      "source": [
        "!g++ -std=c++17 ex09.cpp -o ex09\n",
        "!./ex09"
      ]
    },
    {
      "cell_type": "markdown",
      "metadata": {
        "id": "luKa_f6PMfaq"
      },
      "source": [
        "## CODING CHALLENGE 5\n",
        "Copy the code above to the code cell below and use `setw` to refactor it to display the results in a two-column table like this:\n",
        "\n",
        "| Day Number |  Day Name    |\n",
        "| --- | -------- |\n",
        "| 3   | Tuesday  |"
      ]
    },
    {
      "cell_type": "code",
      "execution_count": 27,
      "metadata": {
        "colab": {
          "base_uri": "https://localhost:8080/"
        },
        "id": "X8WR4RL6Mfar",
        "outputId": "b4cae0b0-4c05-4638-d7d1-7bcfd5c062c1"
      },
      "outputs": [
        {
          "output_type": "stream",
          "name": "stdout",
          "text": [
            "Writing ch05.cpp\n"
          ]
        }
      ],
      "source": [
        "%%writefile ch05.cpp\n",
        "\n",
        "#include <iostream>\n",
        "#include <iomanip>   // for setw\n",
        "using namespace std;\n",
        "\n",
        "int main(){\n",
        "  int day;\n",
        "  cout << \"Enter a day number (between 1 and 7): \";\n",
        "  cin >> day;\n",
        "\n",
        "  string dayName;\n",
        "\n",
        "  if (day == 1){ dayName = \"Sunday\"; }\n",
        "  else if (day == 2){ dayName = \"Monday\"; }\n",
        "  else if (day == 3){ dayName = \"Tuesday\"; }\n",
        "  else if (day == 4){ dayName = \"Wednesday\"; }\n",
        "  else if (day == 5){ dayName = \"Thursday\"; }\n",
        "  else if (day == 6){ dayName = \"Friday\"; }\n",
        "  else if (day == 7){ dayName = \"Saturday\"; }\n",
        "  else { dayName = \"Invalid day\"; }\n",
        "\n",
        "  // Display in a two-column table\n",
        "  cout << endl;\n",
        "  cout << left << setw(12) << \"Day Number\" << setw(12) << \"Day Name\" << endl;\n",
        "  cout << left << setw(12) << day << setw(12) << dayName << endl;\n",
        "\n",
        "  return 0;\n",
        "}\n"
      ]
    },
    {
      "cell_type": "code",
      "execution_count": 28,
      "metadata": {
        "colab": {
          "base_uri": "https://localhost:8080/"
        },
        "id": "Oq2wBUKyne1F",
        "outputId": "59f7d776-27d8-471a-fa4e-9d075cfa5cc1"
      },
      "outputs": [
        {
          "output_type": "stream",
          "name": "stdout",
          "text": [
            "Enter a day number (between 1 and 7):\n",
            "^C\n"
          ]
        }
      ],
      "source": [
        "!g++ -std=c++17 ch05.cpp -o ch05\n",
        "!./ch05"
      ]
    },
    {
      "cell_type": "markdown",
      "metadata": {
        "id": "cBqXPl0eMfar"
      },
      "source": [
        "## The `switch` statement\n",
        "C++ also supports the `switch` statement which chooses statements to run from a small number of possibilities based on the value of a given variable. It takes the following form:\n",
        "\n",
        "``` c++\n",
        "switch(variable){\n",
        "case value1:\n",
        "\tStatement(s);\n",
        "\tbreak;\n",
        "case value2:\n",
        "\tStatement(s);\n",
        "\tbreak;\n",
        "//...\n",
        "default:\n",
        "\tStatement(s);\n",
        "}\n",
        "```\n",
        "\n",
        "Notice the `break` statement at the end of every case; without such a statement a case will fall through (bleeds) to the next.\n",
        "\n",
        "It's important to remember that:\n",
        "* not all variables can be used with the switch statement: only integer (`int`, `short`, `long`) or character (`char`) variables can.\n",
        "* the `default` case is optional; it has a similar meaning to that of `else` in the `if-else` conditional statement; and it does not require the `break` statement.\n",
        "* braces `{` and `}` should not be used around the statement(s) of these cases."
      ]
    },
    {
      "cell_type": "code",
      "execution_count": 29,
      "metadata": {
        "colab": {
          "base_uri": "https://localhost:8080/"
        },
        "id": "RApNmwEYMfas",
        "outputId": "cdcb7738-f0da-47ee-84bd-802f0f221955"
      },
      "outputs": [
        {
          "output_type": "stream",
          "name": "stdout",
          "text": [
            "Writing ex10.cpp\n"
          ]
        }
      ],
      "source": [
        "%%writefile ex10.cpp\n",
        "\n",
        "#include <iostream>\n",
        "\n",
        "using namespace std;\n",
        "\n",
        "int main(){\n",
        "  int day;\n",
        "  cout << \"Enter a day number(between 1 and 7):\" << endl;\n",
        "  cin >> day;\n",
        "  switch(day){\n",
        "  case 1:\n",
        "      cout << \"Sunday\"; break;\n",
        "  case 2:\n",
        "      cout << \"Monday\"; break;\n",
        "  case 3:\n",
        "      cout << \"Tuesday\"; break;\n",
        "  case 4:\n",
        "      cout << \"Wednesday\"; break;\n",
        "  case 5:\n",
        "      cout << \"Thursday\"; break;\n",
        "  case 6:\n",
        "      cout << \"Friday\"; break;\n",
        "  case 7:\n",
        "      cout << \"Saturday\"; break;\n",
        "  default:\n",
        "      cout << \"invalid day\";\n",
        "  }\n",
        "\n",
        "  return 0;\n",
        "}"
      ]
    },
    {
      "cell_type": "code",
      "execution_count": 30,
      "metadata": {
        "colab": {
          "base_uri": "https://localhost:8080/"
        },
        "id": "Hre3wuJsnixO",
        "outputId": "511645ce-3251-406e-dcb0-6283d3bdb980"
      },
      "outputs": [
        {
          "output_type": "stream",
          "name": "stdout",
          "text": [
            "Enter a day number(between 1 and 7):\n",
            "^C\n"
          ]
        }
      ],
      "source": [
        "!g++ -std=c++17 ex10.cpp -o ex10\n",
        "!./ex10"
      ]
    },
    {
      "cell_type": "markdown",
      "metadata": {
        "id": "2ipLqamNMfas"
      },
      "source": [
        "Any `switch` statement can be written as an `if-else-if` statement. For example, the above `switch` statement, has the following equivalent `if-else-if` statement.\n",
        "\n",
        "```cpp\n",
        "int day;\n",
        "\n",
        "cout << \"Enter a day number(between 1 and 7):\" << endl;\n",
        "cin >> day;\n",
        "\n",
        "if (day == 1){\n",
        "    cout << \"Sunday\";\n",
        "} else if (day == 2){\n",
        "    cout << \"Monday\";\n",
        "} else if (day == 3){\n",
        "    cout << \"Tuesday\";\n",
        "} else if (day == 4){\n",
        "    cout << \"Wednesday\";\n",
        "} else if (day == 5){\n",
        "    cout << \"Thursday\";\n",
        "} else if (day == 6){\n",
        "    cout << \"Friday\"; }\n",
        "else if (day == 7){\n",
        "    cout << \"Saturday\";\n",
        "} else {\n",
        "    cout << \"invalid day\";\n",
        "}\n",
        "```"
      ]
    },
    {
      "cell_type": "markdown",
      "metadata": {
        "id": "-fhCg9BsMfat"
      },
      "source": [
        "## CODING CHALLENGE 6\n",
        "Re-write the following program so as to use a `switch` statement.\n"
      ]
    },
    {
      "cell_type": "code",
      "execution_count": 31,
      "metadata": {
        "colab": {
          "base_uri": "https://localhost:8080/"
        },
        "id": "MUlleXPsrtrR",
        "outputId": "bb7084c5-e1f1-42d7-94a8-4c368dc122c9"
      },
      "outputs": [
        {
          "output_type": "stream",
          "name": "stdout",
          "text": [
            "Writing ch06.cpp\n"
          ]
        }
      ],
      "source": [
        "%%writefile ch06.cpp\n",
        "\n",
        "#include <iostream>\n",
        "using namespace std;\n",
        "\n",
        "int main(){\n",
        "  char answer;\n",
        "  cout << \"Are you OK? Type y for yes and n for no: \";\n",
        "  cin >> answer;\n",
        "\n",
        "  switch(answer){\n",
        "    case 'y':\n",
        "    case 'Y':   // handle uppercase too\n",
        "      cout << \"You are OK!\" << endl;\n",
        "      break;\n",
        "\n",
        "    case 'n':\n",
        "    case 'N':\n",
        "      cout << \"You are NOT OK!\" << endl;\n",
        "      break;\n",
        "\n",
        "    default:\n",
        "      cout << \"Invalid input. Please type y or n.\" << endl;\n",
        "  }\n",
        "\n",
        "  return 0;\n",
        "}"
      ]
    },
    {
      "cell_type": "code",
      "execution_count": 32,
      "metadata": {
        "colab": {
          "base_uri": "https://localhost:8080/"
        },
        "id": "tV4bW7yFMfat",
        "outputId": "16ee9cdf-641b-4f2f-aedf-f02089b3fae8"
      },
      "outputs": [
        {
          "output_type": "stream",
          "name": "stdout",
          "text": [
            "Are you OK? Type y for yes and n for No\n",
            "^C\n"
          ]
        }
      ],
      "source": [
        "!g++ -std=c++17 ch06.cpp -o ch06\n",
        "!./ch06"
      ]
    }
  ],
  "metadata": {
    "colab": {
      "provenance": [],
      "toc_visible": true
    },
    "kernelspec": {
      "display_name": "Python 3",
      "name": "python3"
    },
    "language_info": {
      "name": "python"
    }
  },
  "nbformat": 4,
  "nbformat_minor": 0
}