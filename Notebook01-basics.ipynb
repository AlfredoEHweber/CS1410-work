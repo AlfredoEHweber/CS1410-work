{
  "cells": [
    {
      "cell_type": "markdown",
      "metadata": {
        "id": "9ooJsbqknlqc"
      },
      "source": [
        "<a target=\"_blank\" href=\"https://colab.research.google.com/github/WSU-CS1410-AA/cs1410-notebooks/blob/main/Notebook01-basics.ipynb\">\n",
        "  <img src=\"https://colab.research.google.com/assets/colab-badge.svg\" alt=\"Open In Colab\"/>\n",
        "</a>"
      ]
    },
    {
      "cell_type": "markdown",
      "metadata": {
        "id": "M62sfScznlqh"
      },
      "source": [
        "# Introduction\n",
        "A *program* is a recipe for solving a problem or producing an outcome. It contains a list of detailed instructions describing precisely what a computer does to achieve that desired solution or outcome. The art and science of writing computer programs is called *programming*.\n",
        "\n",
        "Because computers are machines made of electrical circuitry where only the binary choices of *on* and *off* ( 1 and 0) are recognizable (or have meaning), the programs, that computers are able to run, need to be in this binary format as well. A program written in such a format is said to be in *machine code*, and it can be run (or executed) directly by the computer.\n",
        "\n",
        "The fact that computers only understand machine code, however, presents a problem for *programmers* (the human beings writing programs) who find it extremely difficult and time-consuming to work at that binary level. To bridge this understanding gap, *programming languages* were created. They allow programmers to write programs in a format close to their natural language (mostly English) and provide tools such as *compilers* and *interpreters* to convert their high-level programs into the machine code that the computer understands and is able to run.\n",
        "\n",
        "```                                 \n",
        "                                    \n",
        "Ruby, Python, JavaScript, Scala     ▲       |\n",
        "                                    |       |\n",
        "                                    |       |\n",
        "                       Java, C#     |       |\n",
        "                                    |       |      \n",
        "                                    |       |     \n",
        "                            C++     |       |\n",
        "                              C     |       |\n",
        "                                    |       |     \n",
        "                                    |       |\n",
        "                       Assembly     |       |\n",
        "                                    |       |\n",
        "                   Machine code     |       ▼\n",
        "                   \n",
        "                                  Level   Speed\n",
        "\n",
        "```\n"
      ]
    },
    {
      "cell_type": "markdown",
      "metadata": {
        "id": "489Cu-XTnlqi"
      },
      "source": [
        "## Programming languages\n",
        "Many programming languages exist today and new ones are invented all the time. Some of these languages are low-level. Assembly is a low-level language with a linear one-to-one mapping between its instructions and their machine code counterparts. Low-level programming has the property of producing the fastest programs, but this gain in performance comes at the cost of its programming being difficult, time-consuming, and prone to errors. High-level languages such as C, C++, Java, C\\# Ruby, Python, JavaScript, and Scala, as the above figure shows, are easier to program but not as fast. Fortunately, programming using high-level languages is fast enough for most of what we need computers for.\n",
        "\n",
        "Using a high-level programming language has many advantages:\n",
        "\n",
        "* It hides the details of computer hardware that programmers do not need to know to create programs.; thus separating hardware (the physical machine with all of its parts and wirings) from software (the programs that run on it.)\n",
        "* It allows programmers to focus more on solving problems rather than formatting programs in machine code.\n",
        "* It makes programming a lot easier to learn.\n",
        "* It makes programs a lot easier to read and understand.\n",
        "\n",
        "Programming languages are classified, based on how often their programs are translated to machine code, into three camps:  compiled, interpreted, and both. A compiled language provides a special program called the *compiler* (thus the name *compiled*) to translate its programs into executable machine code. This translation happens only when the program is first written or when it changes. The generated machine code is used after that to run the program. Examples of compiled programming languages are C, C++, and Go.\n",
        "\n",
        "An interpreted language such as Python, Ruby, and JavaScript uses a program called the *interpreter* to run its programs. The interpreter translates the program to machine code every time it runs. The translation overhead makes interpreted programs slower than compiled ones.\n",
        "\n",
        "Yet some languages such as Java and C\\# are both compiled and interpreted. Their programs are first compiled to an intermediate binary form (bytecode for Java and intermediate language IL for C\\#). This compilation step happens only when the program is first written or when it changes. After that, the compiled intermediate binary form is interpreted every time these programs run.\n"
      ]
    },
    {
      "cell_type": "markdown",
      "metadata": {
        "id": "pBjzAlKznlqi"
      },
      "source": [
        "## Computers from a programmer's perspective\n",
        "\n",
        "```\n",
        "          +-----------+      +---------------------+      +------------+\n",
        " Keyboard |           |      |                     |      |            | Screen\n",
        "    Mouse |           |      |                     |      |            | Printer\n",
        "  Scanner |   Input   |----->|        Memory       |----->|   Output   | Speaker\n",
        "     File |           |      |                     |      |            | File\n",
        " Database |           |      |                     |      |            | Database\n",
        "          +-----------+      +---------------------+      +------------+\n",
        "                                 ▲             |   \n",
        "                                 |             |\n",
        "                                 |             |\n",
        "                                 |             ▼\n",
        "                             +---------------------+\n",
        "                             |                     |\n",
        "                             |                     |\n",
        "                             |   Processor (CPU)   |\n",
        "                             |                     |\n",
        "                             |                     |\n",
        "                             +---------------------+\n",
        "          \n",
        "```\n",
        "\n",
        "As a programmer, you need to have a sense of what a computer can and cannot do. The figure above depicts a simplified model of what a computer is from a programmer's perspective. It consists of four major components: processor, memory, input, and output. All the interactions between these components are initiated by the processor based on the program being executed. To execute a program, the computer does the following:\n",
        "\n",
        "* It loads the program from the file it is saved under into the code section of the memory.\n",
        "* It loads the program to the processor for execution.\n",
        "* It executes the program instructions one at a time in the order specified by the program.\n",
        "* When the program needs to load data from file or get an input via the keyboard, it instructs the relevant parts of the computer to read (or load) data from the input device into the data memory section; It later loads the newly read data into the processor for processing.\n",
        "* Similarly, when the program needs to write some output to a device such as a screen, a printer or even a file on the hard drive, the processor stores that information in memory first and instructs the relevant output device to pick the data from there.\n",
        "\n",
        "The figure above also gives a hint to what a program is: an ordered list of fully-detailed and precise instructions loaded into the memory and executed by the processor to produce the desired output based on the given input. The instructions that make up a program are called *statements* and are of the following kinds:\n",
        "\n",
        "* **Input:** Reads data from a keyboard, a file on the hard drive, or a URL on the web.\n",
        "* **Output:** Displays data on a screen, prints it, or writes it to a file.\n",
        "* **Arithmetics:** Add, subtract, multiply, divide, and compare.\n",
        "* **Conditional execution:** Executes an instruction or a set of instructions only when a certain condition is met.\n",
        "* **Repetitive execution:** Repeats executing an instruction or a set of instructions until a certain condition is met.\n",
        "* **Jumps:** Causes execution to jump from one part of the program to another.\n",
        "\n",
        "In other words, all computers do is perform mathematical and logical arithmetics, move things to/from the processor from/to the memory, jump from one program section to another, do certain things conditionally, and do other things repeatedly.\n",
        "\n",
        "It’s amazing how all the complex and powerful computer applications, that we currently use or can think of, can be stripped down to these six kinds of instructions/statements. This fact is not lost on programming languages; in their own ways, all programming languages support these basic kinds of instructions.\n",
        "\n",
        "It is important to understand here that there is no magic to computers or programming. There is only the human ingenuity, cleverness, and extremely creative engineering that solves the most complex problems using the above instruction kinds. In other words, a computer does not solve a problem, a programmer does by studying the problem, devising a solution, and coding that solution into a program that the computer can execute.\n",
        "\n",
        "The result of this realization is that the computer does exactly what you ask of it: no more and no less. It is as clever, as complex, or as simple as your program is. This is not to belittle what computers do but to stress the fact that anything a computer does is the result of an idea or a set of ideas thought of and reasoned thoroughly by a human and group of humans who took the time and effort to express these ideas in the programming form that computers understand.\n",
        "\n",
        "Having said that, it is truly amazing that an abstract idea expressed in a program can be brought to life or turned into reality by a computer. Perhaps that is the magic of computers: the idea-realizing machines."
      ]
    },
    {
      "cell_type": "markdown",
      "metadata": {
        "id": "o8mxJVhUnlqj"
      },
      "source": [
        "# C++ Programming Basics\n",
        "\n",
        "## The Hello World program\n",
        "Here is the simplest C++ program. It contains only one function named `main`. This function does only one thing: it prints the string \"Hello, World!\" to the screen.\n",
        "\n",
        "\n"
      ]
    },
    {
      "cell_type": "code",
      "execution_count": 2,
      "metadata": {
        "colab": {
          "base_uri": "https://localhost:8080/"
        },
        "id": "i_gK37hon44q",
        "outputId": "635e8552-a6b0-46b7-e774-dd32c97a24ee"
      },
      "outputs": [
        {
          "output_type": "stream",
          "name": "stdout",
          "text": [
            "Writing ex01-hello.cpp\n"
          ]
        }
      ],
      "source": [
        "%%writefile ex01-hello.cpp\n",
        "\n",
        "#include <iostream>\n",
        "\n",
        "int main(){\n",
        "  std::cout << \"Hello, world!\" << std::endl;\n",
        "\n",
        "  return 0;\n",
        "}"
      ]
    },
    {
      "cell_type": "markdown",
      "metadata": {
        "id": "7oGqjFyFn3T1"
      },
      "source": [
        "Here, we used the `std::cout` along with the **insertion operator** `<<` to output text (strings and numbers) to the console. We also used `std::endl` to output a line break. To use `std::cout`, we must first include the `<iostream>` header file.\n",
        "\n",
        "Notice the semicolon `;` at the end of the statement which signals the end of that statement. In C++ semicolons at the end of statements are **required**, and forgetting semicolons is a COMMON error that beginner programmers do.\n",
        "\n",
        "<br>\n",
        "\n",
        "---\n",
        "\n",
        "**IMPORTANT NOTE ON HOW TO RUN C++ IN COLAB**:  \n",
        "The top line `%%writefile ex01-hello.cpp` is not part of the program itself. When this cell runs, `%%writefile` instructs Colab to save the content below the first line into a file with the specified name (`ex01-hello.cpp`).  \n",
        "\n",
        "To compile and test this program, we use the following commands, each preceded by the `!` symbol, which instructs Colab to execute them as shell commands.  \n"
      ]
    },
    {
      "cell_type": "code",
      "execution_count": 3,
      "metadata": {
        "colab": {
          "base_uri": "https://localhost:8080/"
        },
        "id": "e97rIjxJqD6o",
        "outputId": "88b5c8c1-539c-4e26-98f3-961491d67bb7"
      },
      "outputs": [
        {
          "output_type": "stream",
          "name": "stdout",
          "text": [
            "Hello, world!\n"
          ]
        }
      ],
      "source": [
        "!g++ -std=c++17 ex01-hello.cpp -o hello-01\n",
        "!./hello-01"
      ]
    },
    {
      "cell_type": "markdown",
      "metadata": {
        "id": "O8_WJbifra0v"
      },
      "source": [
        "Notice the output of the program displayed underneath the cell above when it is run.  \n",
        "\n",
        "The `g++` command compiles the `ex01-hello.cpp` file into an executable program named as specified after the `-o` flag. The `-std=` flag instructs the compiler to use the 2017 version (standard) of C++. Other values include `c++11`, `c++14`, and `c++20`.  \n",
        "\n",
        "The final `./hello-01` command runs the newly created program.  \n",
        "\n",
        "This pattern of using `%%writefile` and commands preceded by `!` will repeat throughout the notebooks whenever we write, compile, and run C++ programs in Colab.  \n",
        "\n",
        "---\n",
        "<br>"
      ]
    },
    {
      "cell_type": "markdown",
      "metadata": {
        "id": "q0aRQ5Mrnlql"
      },
      "source": [
        "\n",
        "## C++ does not care about white spaces (space, tabs, and new lines)\n",
        "C++ does not care much for white space (spaces, tabs, and new lines). So the above statement would still work if was written as:"
      ]
    },
    {
      "cell_type": "code",
      "execution_count": 4,
      "metadata": {
        "colab": {
          "base_uri": "https://localhost:8080/"
        },
        "id": "au9L-_xkvAIC",
        "outputId": "0e3d001f-1f49-4fcf-abda-1f7f3c535dd0"
      },
      "outputs": [
        {
          "output_type": "stream",
          "name": "stdout",
          "text": [
            "Writing ex02-hello.cpp\n"
          ]
        }
      ],
      "source": [
        "%%writefile ex02-hello.cpp\n",
        "\n",
        "#include <iostream>\n",
        "\n",
        "int main(){\n",
        "  std ::  cout <<                \"Hello, world!\" <<\n",
        "    std   ::   endl;\n",
        "\n",
        "  return 0;\n",
        "}"
      ]
    },
    {
      "cell_type": "code",
      "execution_count": 5,
      "metadata": {
        "colab": {
          "base_uri": "https://localhost:8080/"
        },
        "id": "i5lPFjkDnlql",
        "outputId": "710152c6-15cf-4a77-bf98-775a8cf24444"
      },
      "outputs": [
        {
          "output_type": "stream",
          "name": "stdout",
          "text": [
            "Hello, world!\n"
          ]
        }
      ],
      "source": [
        "!g++ -std=c++17 ex02-hello.cpp -o hello-02\n",
        "!./hello-02"
      ]
    },
    {
      "cell_type": "markdown",
      "metadata": {
        "id": "zgZF8EK0nlql"
      },
      "source": [
        "However, spaces cannot break operators like `::` and `<<` or keywords like `int` or `while`. Doing so will result in errors.\n",
        "\n",
        "## CODING CHALLENGE 1\n",
        "\n",
        "The program below has spacing errors. Fix them, them compile and run the program."
      ]
    },
    {
      "cell_type": "code",
      "execution_count": 40,
      "metadata": {
        "colab": {
          "base_uri": "https://localhost:8080/"
        },
        "id": "3UGDkizCx8vY",
        "outputId": "7b69e4cd-3f8a-4f40-d063-a4c969411687"
      },
      "outputs": [
        {
          "output_type": "stream",
          "name": "stdout",
          "text": [
            "Overwriting ch01.cpp\n"
          ]
        }
      ],
      "source": [
        "%%writefile ch01.cpp\n",
        "\n",
        "#include <iostream>\n",
        "\n",
        "int main(){\n",
        "  std::cout << \"Hello, world!\" << std::endl;\n",
        "\n",
        "  return 0;\n",
        "}"
      ]
    },
    {
      "cell_type": "code",
      "execution_count": 41,
      "metadata": {
        "colab": {
          "base_uri": "https://localhost:8080/"
        },
        "id": "RcogvuVinlqm",
        "outputId": "d1656dc0-7b57-4cf8-e9c6-37a6e50ba96f"
      },
      "outputs": [
        {
          "output_type": "stream",
          "name": "stdout",
          "text": [
            "Hello, world!\n"
          ]
        }
      ],
      "source": [
        "!g++ -std=c++17 ch01.cpp -o ch01\n",
        "!./ch01"
      ]
    },
    {
      "cell_type": "markdown",
      "metadata": {
        "id": "PJDV1Dx1nlqm"
      },
      "source": [
        "## Outputting new lines\n",
        "We can output new lines using both the manipulator `std::endl` or the character `'\\n'`."
      ]
    },
    {
      "cell_type": "code",
      "execution_count": 8,
      "metadata": {
        "colab": {
          "base_uri": "https://localhost:8080/"
        },
        "id": "slg5EMV6nlqm",
        "outputId": "9caddd1e-484d-4512-cd6c-45e8dfa6f1d9"
      },
      "outputs": [
        {
          "output_type": "stream",
          "name": "stdout",
          "text": [
            "Writing ex03-hello.cpp\n"
          ]
        }
      ],
      "source": [
        "%%writefile ex03-hello.cpp\n",
        "\n",
        "#include <iostream>\n",
        "\n",
        "int main(){\n",
        "  std::cout << \"Hello, world!\" << std::endl;\n",
        "  std::cout << \"Good\" << std::endl << \"morning!\" << std::endl;\n",
        "  std::cout << \"Welcome\\nto\\nC++!!!\";\n",
        "\n",
        "  return 0;\n",
        "}"
      ]
    },
    {
      "cell_type": "code",
      "execution_count": 9,
      "metadata": {
        "colab": {
          "base_uri": "https://localhost:8080/"
        },
        "id": "TIyrnr_ly4ot",
        "outputId": "5506305e-d2af-4a6c-c86c-678cde317e87"
      },
      "outputs": [
        {
          "output_type": "stream",
          "name": "stdout",
          "text": [
            "Hello, world!\n",
            "Good\n",
            "morning!\n",
            "Welcome\n",
            "to\n",
            "C++!!!"
          ]
        }
      ],
      "source": [
        "!g++ -std=c++17 ex03-hello.cpp -o hello-03\n",
        "!./hello-03"
      ]
    },
    {
      "cell_type": "markdown",
      "metadata": {
        "id": "0u0oKRFdnlqn"
      },
      "source": [
        "And we can chain as many output pieces to a single `std::cout` as possible. The statement below is equivalent to the the above three statements."
      ]
    },
    {
      "cell_type": "code",
      "execution_count": 10,
      "metadata": {
        "colab": {
          "base_uri": "https://localhost:8080/"
        },
        "id": "tZmDlJRunlqn",
        "outputId": "71eba342-fe9b-404b-ea4d-c47eb44f7fe2"
      },
      "outputs": [
        {
          "output_type": "stream",
          "name": "stdout",
          "text": [
            "Writing ex04-hello.cpp\n"
          ]
        }
      ],
      "source": [
        "%%writefile ex04-hello.cpp\n",
        "\n",
        "#include <iostream>\n",
        "\n",
        "int main(){\n",
        "  std::cout << \"Hello, world!\" << std::endl\n",
        "            << \"Good\" << std::endl << \"morning!\" << std::endl\n",
        "            << \"Welcome\\nto\\nC++!!!\";\n",
        "\n",
        "  return 0;\n",
        "}"
      ]
    },
    {
      "cell_type": "code",
      "execution_count": 11,
      "metadata": {
        "colab": {
          "base_uri": "https://localhost:8080/"
        },
        "id": "KKZO9DMqzRWP",
        "outputId": "84a2cae5-e3e6-4a18-cf5c-75cb868f749e"
      },
      "outputs": [
        {
          "output_type": "stream",
          "name": "stdout",
          "text": [
            "Hello, world!\n",
            "Good\n",
            "morning!\n",
            "Welcome\n",
            "to\n",
            "C++!!!"
          ]
        }
      ],
      "source": [
        "!g++ -std=c++17 ex04-hello.cpp -o hello-04\n",
        "!./hello-04"
      ]
    },
    {
      "cell_type": "markdown",
      "metadata": {
        "id": "O_ZVMTxMnlqn"
      },
      "source": [
        "## CODING CHALLENGE 2\n",
        "Replace all the `std::endl` tokens with `'\\n'` in the program below. Compile and run the program."
      ]
    },
    {
      "cell_type": "code",
      "execution_count": 50,
      "metadata": {
        "colab": {
          "base_uri": "https://localhost:8080/"
        },
        "id": "-J4lVHrw6Ys2",
        "outputId": "c104bd55-3077-4a0c-fd1c-89a038035be5"
      },
      "outputs": [
        {
          "output_type": "stream",
          "name": "stdout",
          "text": [
            "Overwriting ch02.cpp\n"
          ]
        }
      ],
      "source": [
        "%%writefile ch02.cpp\n",
        "\n",
        "#include <iostream>\n",
        "\n",
        "int main(){\n",
        "  std::cout << \"Hello, world!\" << std::endl\n",
        "            << \"Good\\n\" << \"morning!\" << std::endl\n",
        "            << \"Welcome\\nto\\nC++!!!\";\n",
        "\n",
        "  return 0;\n",
        "}"
      ]
    },
    {
      "cell_type": "code",
      "execution_count": 51,
      "metadata": {
        "colab": {
          "base_uri": "https://localhost:8080/"
        },
        "id": "klCpV7t1nlqn",
        "outputId": "ad3e3952-1cf8-45d3-d3bd-427f2a3beb10"
      },
      "outputs": [
        {
          "output_type": "stream",
          "name": "stdout",
          "text": [
            "Hello, world!\n",
            "Good\n",
            "morning!\n",
            "Welcome\n",
            "to\n",
            "C++!!!"
          ]
        }
      ],
      "source": [
        "!g++ -std=c++17 ch02.cpp -o ch02\n",
        "!./ch02"
      ]
    },
    {
      "cell_type": "markdown",
      "metadata": {
        "id": "P8Ea77Ylnlqo"
      },
      "source": [
        "## Using namespaces\n",
        "To avoid having to put `std::` in front of every `cout`, `endl`, and other functions from the standard C++ library, we could use the `using namespace std;` statement typically, but not necessarily, right after the include directives.\n",
        "\n",
        "```cpp\n",
        "#include <iostream>\n",
        "\n",
        "using namespace std;\n",
        "\n",
        "int main(){\n",
        "  cout << \"Hello, world!\\n\";\n",
        "\n",
        "  return 0;\n",
        "}\n",
        "```\n",
        "\n",
        "## CODING CHALLENGE 3\n",
        "\n",
        "Rewrite the program below so as to use the `using namespace std;` statement and remove all the the `std::` prefixes."
      ]
    },
    {
      "cell_type": "code",
      "execution_count": 54,
      "metadata": {
        "colab": {
          "base_uri": "https://localhost:8080/"
        },
        "id": "YxGInUiR7WBI",
        "outputId": "30b2d48d-126a-4c4d-bd15-478d3aeaa421"
      },
      "outputs": [
        {
          "output_type": "stream",
          "name": "stdout",
          "text": [
            "Overwriting ch03.cpp\n"
          ]
        }
      ],
      "source": [
        "%%writefile ch03.cpp\n",
        "\n",
        "#include <iostream>\n",
        "using namespace std;\n",
        "\n",
        "int main() {\n",
        "    cout << \"Hello, world!\" << endl;\n",
        "    cout << \"Good \" << \"morning!\" << endl;\n",
        "    cout << \"Welcome\\nto\\nC++!!!\" << endl;\n",
        "\n",
        "    return 0;\n",
        "}\n"
      ]
    },
    {
      "cell_type": "code",
      "execution_count": 55,
      "metadata": {
        "colab": {
          "base_uri": "https://localhost:8080/"
        },
        "id": "cHccRiIznlqo",
        "outputId": "df52e1be-c792-4075-b99a-80a3343d93f3"
      },
      "outputs": [
        {
          "output_type": "stream",
          "name": "stdout",
          "text": [
            "Hello, world!\n",
            "Good morning!\n",
            "Welcome\n",
            "to\n",
            "C++!!!\n"
          ]
        }
      ],
      "source": [
        "!g++ -std=c++17 ch03.cpp -o ch03\n",
        "!./ch03"
      ]
    },
    {
      "cell_type": "markdown",
      "metadata": {
        "id": "Qw_SASsGnlqo"
      },
      "source": [
        "## Comments\n",
        "Comments are notes you leave in your programs to explain how they work or should be used to yourself or to anyone who reads your code. When the compiler sees these comments, it ignores them.\n",
        "\n",
        "C++ supports two kinds of comments:\n",
        "* Single line comments which start with two forward slashes `//` until end of line\n",
        "```cpp\n",
        "// single line comment; until end of line.\n",
        "```\n",
        "* multi-line comments which start with forward slash star `/*` and ends with star forward slash `*/`.\n",
        "```cpp\n",
        " /*\n",
        "  multi-line comment; spans\n",
        "  one\n",
        "  or\n",
        "  more\n",
        "  lines.\n",
        " */\n",
        "```"
      ]
    },
    {
      "cell_type": "markdown",
      "metadata": {
        "id": "3uPQzJL_nlqp"
      },
      "source": [
        "## Data types\n",
        "C++ programs work with data of many types. The most common data types are :\n",
        "* Integers like 1, 5, 10, -16: we use the keyword `int` to define integers.\n",
        "* Decimals such as .2, 5.3, 3.2: we use the keyword `double` to define double-precision decimals and the keyword `float` to define single-precision decimals. Use `double` for decimals unless you are told otherwise.\n",
        "* Characters: which are single letters or symbols written between single quotes, such as the letter `'A'`, the digit `'8'`, the symbol `'@'` the line break character `'\\n'`, the tab character `'\\t'`. We use the keyword `char` to define single characters.\n",
        "* Booleans which are either `true` or `false`. We use the keyword `bool` to define booleans.\n",
        "* Strings which are one or more characters between double quotes such as the `\"hello world\"` text or the name `\"Sam\"`. We use the class `string` to define strings, which requires including the `<string>` header file.\n",
        "\n",
        "We must use these data types to define variables.\n",
        "\n",
        "To define a variable, we start with the data type of the variable followed by its name:\n",
        "\n",
        "```cpp\n",
        "  <data-type> <variable-name>;\n",
        "```\n",
        "\n",
        "Optionally we can initialize the variable at the time of its creation by providing an initial value in two ways:\n",
        "\n",
        "\n",
        "```cpp\n",
        "  <data-type> <variable-name> = <initial-value>;\n",
        "```\n",
        "\n",
        "or\n",
        "\n",
        "```cpp\n",
        "  <data-type> <variable-name> { <initial-value> };\n",
        "```\n",
        "\n",
        "\n",
        "Below are example variable definitions: some are initialized; others are not."
      ]
    },
    {
      "cell_type": "code",
      "execution_count": 16,
      "metadata": {
        "colab": {
          "base_uri": "https://localhost:8080/"
        },
        "id": "kLbAj36Ynlqp",
        "outputId": "73cca1ea-4091-4a13-e332-ec83d1611816"
      },
      "outputs": [
        {
          "output_type": "stream",
          "name": "stdout",
          "text": [
            "Writing ex05-vars.cpp\n"
          ]
        }
      ],
      "source": [
        "%%writefile ex05-vars.cpp\n",
        "\n",
        "#include <iostream>\n",
        "#include <string> // For the string variables\n",
        "\n",
        "using namespace std;\n",
        "\n",
        "int main(){\n",
        "  int number;\n",
        "  double pi = 3.14;\n",
        "  char letter;\n",
        "  bool active = true;\n",
        "  float half { 0.5f }; // the f in 0.5f is for float\n",
        "  string message = \"Good morning!\";\n",
        "  char vowel { 'i' };\n",
        "  bool married { false };\n",
        "\n",
        "  return 0;\n",
        "}"
      ]
    },
    {
      "cell_type": "code",
      "execution_count": 17,
      "metadata": {
        "id": "xvCpEMyo9dHb"
      },
      "outputs": [],
      "source": [
        "!g++ -std=c++17 ex05-vars.cpp -o vars\n",
        "!./vars"
      ]
    },
    {
      "cell_type": "markdown",
      "metadata": {
        "id": "Dh-L5izPnlqp"
      },
      "source": [
        "As the examples above show, variable names must be valid **C++ identifiers**. That means they:\n",
        "* can only contain letters, digits, and underscores,\n",
        "* cannot start with a digit, and\n",
        "* cannot be a C++ keyword.\n",
        "\n",
        "And you must always remember that:\n",
        "* **a variable must be defined before it can be used**\n",
        "* **it can only be defined once**.\n",
        "\n",
        "Try running the code cell above again. Do you see the error?\n",
        "\n",
        "## CODING CHALLENGE 4\n",
        "Define eight more new variables in the code cell bellow."
      ]
    },
    {
      "cell_type": "code",
      "execution_count": 56,
      "metadata": {
        "colab": {
          "base_uri": "https://localhost:8080/"
        },
        "id": "03M15qt6nlqp",
        "outputId": "ecd5bb0d-e7bc-4b92-a849-b47ed826a954"
      },
      "outputs": [
        {
          "output_type": "stream",
          "name": "stdout",
          "text": [
            "Overwriting ch04.cpp\n"
          ]
        }
      ],
      "source": [
        "%%writefile ch04.cpp\n",
        "\n",
        "#include <iostream>\n",
        "#include <string>\n",
        "\n",
        "using namespace std;\n",
        "\n",
        "int main() {\n",
        "    int number;\n",
        "    double pi = 3.14;\n",
        "    char letter;\n",
        "    bool active = true;\n",
        "    float half { 0.5f }; // the f in 0.5f is for float\n",
        "    string message = \"Good morning!\";\n",
        "    char vowel { 'i' };\n",
        "    bool married { false };\n",
        "\n",
        "    // TODO: Define eight more variables with different data types\n",
        "    long population = 7800000000;     // long integer\n",
        "    short age = 17;                   // short integer\n",
        "    unsigned int score = 100;         // unsigned integer\n",
        "    long long distance = 1234567890;  // long long integer\n",
        "    unsigned char grade = 'A';        // unsigned character\n",
        "    wchar_t symbol = L'Ω';            // wide character\n",
        "    const double gravity = 9.81;      // constant double\n",
        "    string name = \"Angel\";            // another string variable\n",
        "\n",
        "    return 0;\n",
        "}\n"
      ]
    },
    {
      "cell_type": "code",
      "execution_count": 19,
      "metadata": {
        "id": "FlpRzRCu902t"
      },
      "outputs": [],
      "source": [
        "!g++ -std=c++17 ch04.cpp -o ch04\n",
        "!./ch04"
      ]
    },
    {
      "cell_type": "markdown",
      "metadata": {
        "id": "T4VJDn0_nlqp"
      },
      "source": [
        "## Reading input from the console\n",
        "\n",
        "And just like we used `cout` with the **insertion** `<<` operator to output to the console, we can use `cin` to read input data from the keyboard. To do that, we must first define a variable with the same data type as the input value.\n",
        "\n",
        "Here is an example of reading two integer values. Run it and enter two integers."
      ]
    },
    {
      "cell_type": "code",
      "execution_count": 20,
      "metadata": {
        "colab": {
          "base_uri": "https://localhost:8080/"
        },
        "id": "wHBk8Z-pnlqq",
        "outputId": "b8f2f132-e7ad-41d7-b724-7123a5a4fa9c"
      },
      "outputs": [
        {
          "output_type": "stream",
          "name": "stdout",
          "text": [
            "Writing ex06-input.cpp\n"
          ]
        }
      ],
      "source": [
        "%%writefile ex06-input.cpp\n",
        "\n",
        "#include <iostream>\n",
        "\n",
        "using namespace std;\n",
        "\n",
        "int main(){\n",
        "  int x, y;\n",
        "  cout << \"Enter two integers: \";\n",
        "  cin >> x >> y;\n",
        "\n",
        "  cout << x << '\\t' << y << endl;\n",
        "\n",
        "  return 0;\n",
        "}"
      ]
    },
    {
      "cell_type": "code",
      "execution_count": 21,
      "metadata": {
        "colab": {
          "base_uri": "https://localhost:8080/"
        },
        "id": "oYqbt2S7-UCT",
        "outputId": "56efbf45-b272-4d61-8f26-c75a83e64e7b"
      },
      "outputs": [
        {
          "output_type": "stream",
          "name": "stdout",
          "text": [
            "Enter two integers: ^C\n"
          ]
        }
      ],
      "source": [
        "!g++ -std=c++17 ex06-input.cpp -o input-01\n",
        "!./input-01"
      ]
    },
    {
      "cell_type": "markdown",
      "metadata": {
        "id": "SniCUMEwnlqq"
      },
      "source": [
        "Notice the use of:\n",
        "```cpp\n",
        "cout << x << '\\t' << y << endl;\n",
        "```\n",
        "\n",
        "for displaying the values you entered."
      ]
    },
    {
      "cell_type": "markdown",
      "metadata": {
        "id": "WMqjmZxKnlqr"
      },
      "source": [
        "Similarly to receive `double` input, we define a `double` variable. And we then take the entered fahrenheit temperature and convert it into celsius using the formula:\n",
        "\n",
        "$C = (F - 32) \\times \\frac{5}{9}$"
      ]
    },
    {
      "cell_type": "code",
      "execution_count": 22,
      "metadata": {
        "colab": {
          "base_uri": "https://localhost:8080/"
        },
        "id": "uS_7l8X9nlqr",
        "outputId": "e85c2b58-23a4-4c4c-accd-4fb66b488374"
      },
      "outputs": [
        {
          "output_type": "stream",
          "name": "stdout",
          "text": [
            "Writing ex07-temp.cpp\n"
          ]
        }
      ],
      "source": [
        "%%writefile ex07-temp.cpp\n",
        "\n",
        "#include <iostream>\n",
        "\n",
        "using namespace std;\n",
        "\n",
        "int main(){\n",
        "  double f_temp; // To be entered\n",
        "  double c_temp; // To be calculated\n",
        "\n",
        "  // Input\n",
        "  cout << \"Temperature in fahrenheit:\\n\";\n",
        "  cin >> f_temp;\n",
        "\n",
        "  // Output\n",
        "  c_temp = (f_temp - 32) * 5.0 / 9.0;\n",
        "  cout << \"Temperature in Celsius is: \" << c_temp << '\\n';\n",
        "\n",
        "  return 0;\n",
        "}"
      ]
    },
    {
      "cell_type": "code",
      "execution_count": 23,
      "metadata": {
        "colab": {
          "base_uri": "https://localhost:8080/"
        },
        "id": "w_YG12gk8_qx",
        "outputId": "d757f647-e51e-402c-82a8-3d4d2cfd3ff4"
      },
      "outputs": [
        {
          "output_type": "stream",
          "name": "stdout",
          "text": [
            "Temperature in fahrenheit:\n",
            "^C\n"
          ]
        }
      ],
      "source": [
        "!g++ -std=c++17 ex07-temp.cpp -o temp\n",
        "!./temp"
      ]
    },
    {
      "cell_type": "markdown",
      "metadata": {
        "id": "1bup5rrnnlqs"
      },
      "source": [
        "## CODING CHALLENGE 5\n",
        "Finish, compile and run the program below. It should prompt the user to enter the radius of a circle and read it into a `double` variable named `radius`. Calculate and display the area of a circle with that radius."
      ]
    },
    {
      "cell_type": "code",
      "execution_count": 69,
      "metadata": {
        "colab": {
          "base_uri": "https://localhost:8080/"
        },
        "id": "sin3SHDInlqs",
        "outputId": "979e7c45-f943-4643-b114-8bd9cc77709c"
      },
      "outputs": [
        {
          "output_type": "stream",
          "name": "stdout",
          "text": [
            "Overwriting ch05.cpp\n"
          ]
        }
      ],
      "source": [
        "%%writefile ch05.cpp\n",
        "\n",
        "#include <iostream>\n",
        "using namespace std;\n",
        "\n",
        "int main() {\n",
        "    const double PI = 3.14159;\n",
        "    double radius, area;\n",
        "\n",
        "    cout << \"Enter radius: \";\n",
        "    cin >> radius;\n",
        "\n",
        "    area = PI * radius * radius;   // Area = πr²\n",
        "\n",
        "    cout << \"The area of the circle with radius \"\n",
        "         << radius << \" is \" << area << endl;\n",
        "\n",
        "    return 0;\n",
        "}"
      ]
    },
    {
      "cell_type": "code",
      "execution_count": 70,
      "metadata": {
        "id": "kH6mgEo_95AT",
        "colab": {
          "base_uri": "https://localhost:8080/"
        },
        "outputId": "1dba815a-cf09-48a6-fe18-708be5980e9c"
      },
      "outputs": [
        {
          "output_type": "stream",
          "name": "stdout",
          "text": [
            "Enter radius: 5\n",
            "The area of the circle with radius 5 is 78.5397\n"
          ]
        }
      ],
      "source": [
        "!g++ -std=c++17 ch05.cpp -o ch05\n",
        "!./ch05"
      ]
    },
    {
      "cell_type": "markdown",
      "metadata": {
        "id": "9sqe3YWNnlqt"
      },
      "source": [
        "In the challenge above, we needed the value of $\\pi$ (`PI`) which is a constant whose value is 3.14159. And by convention, constants' names are ALL CAPS."
      ]
    },
    {
      "cell_type": "markdown",
      "metadata": {
        "id": "gd1Abxbxnlqt"
      },
      "source": [
        "## Arithmetic operators\n",
        "C++ supports multiple arithmetic operators( +, -, \\*, /) representing addition, subtraction, multiplication, and division respectively. We use these operators to create expressions like:"
      ]
    },
    {
      "cell_type": "code",
      "execution_count": 26,
      "metadata": {
        "colab": {
          "base_uri": "https://localhost:8080/"
        },
        "id": "23ULUVpynlqt",
        "outputId": "54f3fe33-64d5-4bfe-d569-c7211521c263"
      },
      "outputs": [
        {
          "output_type": "stream",
          "name": "stdout",
          "text": [
            "Writing ex08-arithmetic.cpp\n"
          ]
        }
      ],
      "source": [
        "%%writefile ex08-arithmetic.cpp\n",
        "\n",
        "#include <iostream>\n",
        "\n",
        "using namespace std;\n",
        "\n",
        "int main(){\n",
        "  int x = 10;\n",
        "\n",
        "  cout << 6 + 7   << endl\n",
        "       << x - 5   << endl\n",
        "       << 4 * 3   << endl\n",
        "       << 7 / 2   << endl    // Integer division\n",
        "       << 7 % 2   << endl    // Remainder\n",
        "       << 7 / 2.0 << endl;\n",
        "\n",
        "  return 0;\n",
        "}"
      ]
    },
    {
      "cell_type": "code",
      "execution_count": 27,
      "metadata": {
        "colab": {
          "base_uri": "https://localhost:8080/"
        },
        "id": "3pT9226F_EM5",
        "outputId": "7c098c09-99d0-4f30-f9a4-eab46414d00d"
      },
      "outputs": [
        {
          "output_type": "stream",
          "name": "stdout",
          "text": [
            "13\n",
            "5\n",
            "12\n",
            "3\n",
            "1\n",
            "3.5\n"
          ]
        }
      ],
      "source": [
        "!g++ -std=c++17 ex08-arithmetic.cpp -o arithmetic\n",
        "!./arithmetic"
      ]
    },
    {
      "cell_type": "markdown",
      "metadata": {
        "id": "2u7jqcCWnlqt"
      },
      "source": [
        "## Relational operators\n",
        "C++ also support relational operators which are used to compare two values and see if one is >, <, >=, <=, == (equal to), and != (not equal to) the other. These operators return boolean values that evaluate to either `true` or `false`. For example `6 < 7` is true but `2 >= 7` is false.\n",
        "\n",
        "**Note**: We always use two equal signs `==` to check if one value is equal to another. One equal sign `=` means assignment, not equality.\n",
        "\n"
      ]
    },
    {
      "cell_type": "code",
      "execution_count": 28,
      "metadata": {
        "colab": {
          "base_uri": "https://localhost:8080/"
        },
        "id": "BAZ9Ytoanlqt",
        "outputId": "c0b9b8b6-abd0-4713-d21b-b7c63c9cf774"
      },
      "outputs": [
        {
          "output_type": "stream",
          "name": "stdout",
          "text": [
            "Writing ex09-relational.cpp\n"
          ]
        }
      ],
      "source": [
        "%%writefile ex09-relational.cpp\n",
        "\n",
        "#include <iostream>\n",
        "\n",
        "using namespace std;\n",
        "\n",
        "int main(){\n",
        "  cout << (6.5 < 7) << endl\n",
        "       << ('a' > 'z') << endl\n",
        "       << (4 >= 3) << endl\n",
        "       << (2 <= 7) << endl\n",
        "       << (9 == 9) << endl\n",
        "       << ('x' != 'X') << endl\n",
        "       << (7.1 == 2.0) << endl;\n",
        "\n",
        "  return 0;\n",
        "}"
      ]
    },
    {
      "cell_type": "code",
      "execution_count": 29,
      "metadata": {
        "colab": {
          "base_uri": "https://localhost:8080/"
        },
        "id": "luHokZsn_FH0",
        "outputId": "659fb45f-ca7f-4d8f-a79d-5506b8d7dd20"
      },
      "outputs": [
        {
          "output_type": "stream",
          "name": "stdout",
          "text": [
            "1\n",
            "0\n",
            "1\n",
            "1\n",
            "1\n",
            "1\n",
            "0\n"
          ]
        }
      ],
      "source": [
        "!g++ -std=c++17 ex09-relational.cpp -o relational\n",
        "!./relational"
      ]
    },
    {
      "cell_type": "markdown",
      "metadata": {
        "id": "aYJYhF44nlqu"
      },
      "source": [
        "Notice how `true` is printed as `1` and `false` as `0` by the `cout` output statement.\n",
        "\n",
        "## CODING CHALLENGE 6\n",
        "Change the program below such that all expressions become false and print `0` instead of `1`."
      ]
    },
    {
      "cell_type": "code",
      "execution_count": 77,
      "metadata": {
        "colab": {
          "base_uri": "https://localhost:8080/"
        },
        "id": "EzisKpEAnlqu",
        "outputId": "224e7df7-4f58-44bd-d889-d8a12cbd8b66"
      },
      "outputs": [
        {
          "output_type": "stream",
          "name": "stdout",
          "text": [
            "Overwriting ch06.cpp\n"
          ]
        }
      ],
      "source": [
        "%%writefile ch06.cpp\n",
        "\n",
        "#include <iostream>\n",
        "\n",
        "using namespace std;\n",
        "\n",
        "int main(){\n",
        "  cout << (6 > 7) << endl\n",
        "       << (7 < 5) << endl\n",
        "       << (4 <= 3) << endl\n",
        "       << (2 > 7) << endl\n",
        "       << ('C' - 'C') << endl\n",
        "       << (7.1 <= 2.0) << endl;\n",
        "\n",
        "  return 0;\n",
        "}"
      ]
    },
    {
      "cell_type": "code",
      "execution_count": 78,
      "metadata": {
        "colab": {
          "base_uri": "https://localhost:8080/"
        },
        "id": "UpOWJpoQ_Gi6",
        "outputId": "bb37c85d-f968-4a40-d165-c35920071efa"
      },
      "outputs": [
        {
          "output_type": "stream",
          "name": "stdout",
          "text": [
            "0\n",
            "0\n",
            "0\n",
            "0\n",
            "0\n",
            "0\n"
          ]
        }
      ],
      "source": [
        "!g++ -std=c++17 ch06.cpp -o ch06\n",
        "!./ch06"
      ]
    },
    {
      "cell_type": "markdown",
      "metadata": {
        "id": "MCdhhLDrnlqu"
      },
      "source": [
        "## Logical operators\n",
        "C++ also allows us to combine multiple boolean expressions using the `&&` (AND) operator or the `||` (OR) operator, or negate a boolean expression using the `!` (NOT) operator. These are called logical operators and like relational operators, they evaluate to either `true` or `false`.\n",
        "\n",
        "Here’s is a truth table showing when the resutls of these operations are true and when they are false.\n",
        "\n",
        "| A   | B   | A AND B | A OR B  |\n",
        "| --- | --- | -------: | -------: |\n",
        "| True   | True   | True       | True       |\n",
        "| True   | False   | False       | True       |\n",
        "| False   | True   | False       | True       |\n",
        "| False   | False   | False       | False       |\n",
        "\n",
        "\n",
        "Here is an example"
      ]
    },
    {
      "cell_type": "code",
      "execution_count": 32,
      "metadata": {
        "colab": {
          "base_uri": "https://localhost:8080/"
        },
        "id": "RnXZaS8dnlqu",
        "outputId": "4a72ca9c-4b8f-49cc-bcad-51e601e41f91"
      },
      "outputs": [
        {
          "output_type": "stream",
          "name": "stdout",
          "text": [
            "Writing ex10-logical.cpp\n"
          ]
        }
      ],
      "source": [
        "%%writefile ex10-logical.cpp\n",
        "\n",
        "#include <iostream>\n",
        "\n",
        "using namespace std;\n",
        "\n",
        "int main(){\n",
        "  int x = 16;\n",
        "\n",
        "  cout << (x < 7 || x > 5) << endl;\n",
        "  cout << (x != 5 && x != 7) << endl;\n",
        "  cout << !true << endl;\n",
        "  cout << !false << endl;\n",
        "  cout << !(!(true)) << endl;\n",
        "\n",
        "  return 0;\n",
        "}"
      ]
    },
    {
      "cell_type": "code",
      "execution_count": 33,
      "metadata": {
        "colab": {
          "base_uri": "https://localhost:8080/"
        },
        "id": "E3nuThDo_Kp7",
        "outputId": "0e7de62b-df14-4295-e915-fba6bac34139"
      },
      "outputs": [
        {
          "output_type": "stream",
          "name": "stdout",
          "text": [
            "1\n",
            "1\n",
            "0\n",
            "1\n",
            "1\n"
          ]
        }
      ],
      "source": [
        "!g++ -std=c++17 ex10-logical.cpp -o logical\n",
        "!./logical"
      ]
    },
    {
      "cell_type": "markdown",
      "metadata": {
        "id": "iD9dyvWunlqu"
      },
      "source": [
        "## Assignment operators\n",
        "We also have the assignment operators. In its simplest form, the single equal sign `=` is used to assign the value on the right hand side to the variable on the left hand side. And because assignments are full statements, they must have `;` at the end.\n",
        "\n",
        "For example:\n",
        "\n",
        "```cpp\n",
        "x = 14;\n",
        "y = y + x - 7;\n",
        "```"
      ]
    },
    {
      "cell_type": "markdown",
      "metadata": {
        "id": "fK7weu91nlqv"
      },
      "source": [
        "C++ also provides shorthand operators that combine arithmetic and assignment operations. These shorthands offer a concise way to update the value of a variable.\n",
        "* `+=` where `x += y;` is equivalent to\t`x = x + y;`.\n",
        "* `-=` where `x -= y;` is equivalent to\t`x = x - y;`.\n",
        "* `*=` where `x *= y;` is equivalent to\t`x = x * y;`.\n",
        "* `/=` where `x /= y;` is equivalent to\t`x = x / y;`.\n",
        "* `%=` where `x %= y;` is equivalent to\t`x = x % y;`.\n",
        "\n",
        "\n",
        "## CODING CHALLENGE 7\n",
        "Replace all the shorthand arithmetic assignments in the program below with their equivalent simple assignment alternatives. For example, `ans +=10;` should be replaced with `ans = ans + 10;`"
      ]
    },
    {
      "cell_type": "code",
      "execution_count": 82,
      "metadata": {
        "colab": {
          "base_uri": "https://localhost:8080/"
        },
        "id": "AQoXL12_nlqv",
        "outputId": "989ae159-491f-456d-d256-fd969a99addc"
      },
      "outputs": [
        {
          "output_type": "stream",
          "name": "stdout",
          "text": [
            "Overwriting ch07.cpp\n"
          ]
        }
      ],
      "source": [
        "%%writefile ch07.cpp\n",
        "\n",
        "#include <iostream>\n",
        "\n",
        "using namespace std;\n",
        "\n",
        "int main(){\n",
        "  // TODO\n",
        "  int ans = 27;\n",
        "\n",
        "  ans = ans + 10;\n",
        "  cout << ans << \", \";\n",
        "  ans = ans - 7;\n",
        "  cout << ans << \", \";\n",
        "  ans = ans * 2;\n",
        "  cout << ans << \", \";\n",
        "  ans = ans / 3;\n",
        "  cout << ans << \", \";\n",
        "  ans = ans % 3;\n",
        "  cout << ans << endl;\n",
        "\n",
        "  return 0;\n",
        "}"
      ]
    },
    {
      "cell_type": "code",
      "execution_count": 83,
      "metadata": {
        "colab": {
          "base_uri": "https://localhost:8080/"
        },
        "id": "x15oQc1G_Lzp",
        "outputId": "7e4cdced-403d-4f2d-8007-94793427d149"
      },
      "outputs": [
        {
          "output_type": "stream",
          "name": "stdout",
          "text": [
            "37, 30, 60, 20, 2\n"
          ]
        }
      ],
      "source": [
        "!g++ -std=c++17 ch07.cpp -o ch07\n",
        "!./ch07"
      ]
    },
    {
      "cell_type": "markdown",
      "metadata": {
        "id": "8gYVjuD2nlqv"
      },
      "source": [
        "## Increment/Decrement by one operators\n",
        "Finally, C++ supports the increment `++` and the decrement `--` operators. These operators increments or decrements the value of their variables by one. For example `x++` is the same as incrementing the value of `x` by `1` and similarly `x--` is like decrementing `x` by `1`. The same goes for `++x` and `--x`.\n",
        "\n",
        "But one must understand the difference between `++x` and `x++`. `++x` is called **prefix increment** which means `x` is incremented at the beginning of the statement, while`x++` is called **postfix increment** meaning that `x` is incremented at the end of the statement.\n",
        "\n",
        "Here is an example. Notice specifically outout of the second and fourth `cout` statements. Change all `++` to `--` and run it again. Does the output make sense?"
      ]
    },
    {
      "cell_type": "code",
      "execution_count": 36,
      "metadata": {
        "colab": {
          "base_uri": "https://localhost:8080/"
        },
        "id": "9Guy6gScnlqv",
        "outputId": "530962e6-3bae-4a20-cec9-d467e5548ef1"
      },
      "outputs": [
        {
          "output_type": "stream",
          "name": "stdout",
          "text": [
            "Writing ex11-increment.cpp\n"
          ]
        }
      ],
      "source": [
        "%%writefile ex11-increment.cpp\n",
        "\n",
        "#include <iostream>\n",
        "\n",
        "using namespace std;\n",
        "\n",
        "int main(){\n",
        "\n",
        "  //TODO\n",
        "  int count = 10;\n",
        "\n",
        "  cout << \"count=\" << count << endl;\n",
        "  cout << \"count=\" << ++count << endl;\n",
        "  cout << \"count=\" << count << endl;\n",
        "  cout << \"count=\" << count++ << endl;\n",
        "  cout << \"count=\" << count << endl;\n",
        "\n",
        "  return 0;\n",
        "}"
      ]
    },
    {
      "cell_type": "code",
      "execution_count": 37,
      "metadata": {
        "colab": {
          "base_uri": "https://localhost:8080/"
        },
        "id": "ZyhpmolO_NDI",
        "outputId": "be4d539b-9a3a-4592-e6f5-6950b9798428"
      },
      "outputs": [
        {
          "output_type": "stream",
          "name": "stdout",
          "text": [
            "count=10\n",
            "count=11\n",
            "count=11\n",
            "count=11\n",
            "count=12\n"
          ]
        }
      ],
      "source": [
        "!g++ -std=c++17 ex11-increment.cpp -o increment\n",
        "!./increment"
      ]
    }
  ],
  "metadata": {
    "colab": {
      "provenance": [],
      "toc_visible": true
    },
    "kernelspec": {
      "display_name": "Python 3",
      "name": "python3"
    },
    "language_info": {
      "name": "python"
    }
  },
  "nbformat": 4,
  "nbformat_minor": 0
}