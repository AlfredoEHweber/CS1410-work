{
  "cells": [
    {
      "cell_type": "markdown",
      "metadata": {
        "id": "yOjBNPhhgiqb"
      },
      "source": [
        "<a target=\"_blank\" href=\"https://colab.research.google.com/github/WSU-CS1410-AA/cs1410-notebooks/blob/main/Notebook07-classes_and_objects.ipynb\">\n",
        "  <img src=\"https://colab.research.google.com/assets/colab-badge.svg\" alt=\"Open In Colab\"/>\n",
        "</a>"
      ]
    },
    {
      "cell_type": "markdown",
      "metadata": {
        "id": "LkKNZNUwgiqj"
      },
      "source": [
        "# Classes and Objects\n",
        "\n",
        "From the very beginning, C++ was meant to be a better C:\n",
        "* to fix the known issues and vulnerabilities of C,\n",
        "* to solve the issues of structured programming seen in large-scale C programs, and\n",
        "* to support the, then-new, object-oriented programming (OOP) paradigm.\n",
        "\n",
        "Being an object-oriented programming (OOP) language meant:\n",
        "* The ability to create classes that represent new data types that go beyond the built-in types.\n",
        "* The ability to instantiate or create objects from these classes\n",
        "* The ability of one class to inherit from another class\n",
        "* The ability to take advantage of polymorphism.\n",
        "\n",
        "From the perspective of OOP, the real world is made up of entities such as automobiles, buildings, devices, shapes, cars, and so on. Each entity has **attributes**. For example, a car has the attributes: year, make, model, and color among other things. Each entity **behaves** or **acts** in some way as well. A car, for example, can move forward or backward, turn left or right, brake, turn on or off.\n",
        "\n",
        "In C++, we use **classes** to name and describe real-world entities, their attributes, and their behaviors.\n",
        "\n",
        "We call defining both attributes and behaviors under the same class **encapsulation**, which is a core principle of OOP. In C++, attributes are modeled with variables; they are called data members. On the other hand, behaviors are modeled with functions; they are called member functions. And the good news is that we already know how to define variables and functions. By defining classes, we get a better way of organizing code. A program becomes a collection of classes that build on top of and interact with one another.\n",
        "\n",
        "In addition, OOP supports **information hiding**, which allows us to make certain class members (data and/or function members) **private** and others **public**. There is also the ability to make classes inherit some or all of their attributes and behaviors from other classes. This, as we shall see, is useful in capturing the similarities between multiple entities, minimizing code repetition, and improving code reuse, all of which are important software-engineering goals.\n",
        "\n",
        "Let's get started. Here is our first  example class:"
      ]
    },
    {
      "cell_type": "code",
      "execution_count": 26,
      "metadata": {
        "id": "qehJ1gs8giql",
        "outputId": "7dc14718-2572-4c43-d042-3f88d6240bc8",
        "colab": {
          "base_uri": "https://localhost:8080/"
        }
      },
      "outputs": [
        {
          "output_type": "stream",
          "name": "stdout",
          "text": [
            "Overwriting ex01.cpp\n"
          ]
        }
      ],
      "source": [
        "%%writefile ex01.cpp\n",
        "\n",
        "#include <iostream>\n",
        "#include <iomanip>\n",
        "#include <string>\n",
        "\n",
        "using namespace std;\n",
        "\n",
        "class SimpleClass {\n",
        "private:\n",
        "  int someData;\n",
        "\n",
        "public:\n",
        "  void setData(int d){\n",
        "      someData = d;\n",
        "  }\n",
        "\n",
        "  void showData(){\n",
        "    cout << \"Data is \" << someData << endl;\n",
        "  }\n",
        "};"
      ]
    },
    {
      "cell_type": "markdown",
      "metadata": {
        "id": "RBaoDpUngiqo"
      },
      "source": [
        "The `SimpleClass` has a single data member (an attribute) named `someData` and two member functions (behaviors): `setData` and `showData`. The class is divided into two sections: `private` and `public`. Members under the `private` section are private, which means they cannot be accessed outside of the class. Public members can be accessed inside and outside the class.\n",
        "\n",
        "It's a common practice to have the data members of the class as private. This is to protect them from being inadvertently changed or even seen outside the class. It is also a common practice to make member functions public. Having said that, a class can still have public data members and private function members, if that serves its purpose.\n",
        "\n",
        "Once we have a class, we can use it to create objects. These objects are also called instances of the class. If you can think of a class as the **blueprint** of a house, an actual house based on that blueprint is an object (or an instance) of that blueprint). For example:"
      ]
    },
    {
      "cell_type": "code",
      "execution_count": 27,
      "metadata": {
        "id": "l1t9tA0vgiqo",
        "outputId": "977f21ab-32ac-482e-eac3-150888125eaf",
        "colab": {
          "base_uri": "https://localhost:8080/"
        }
      },
      "outputs": [
        {
          "output_type": "stream",
          "name": "stdout",
          "text": [
            "Appending to ex01.cpp\n"
          ]
        }
      ],
      "source": [
        "%%writefile -a ex01.cpp\n",
        "\n",
        "int main() {\n",
        "  SimpleClass s1, s2; // Creating two objects\n",
        "\n",
        "  s1.setData(500);\n",
        "  s2.setData(187);\n",
        "  s1.showData();\n",
        "  s2.showData();\n",
        "\n",
        "  /*\n",
        "  cout << s1.someData;\n",
        "  cout << s2.someData;\n",
        "  */\n",
        "\n",
        "  return 0;\n",
        "}"
      ]
    },
    {
      "cell_type": "markdown",
      "metadata": {
        "id": "i-7eGsnZgiqp"
      },
      "source": [
        "Here `SimpleClass` is the name of the class we just defined, while `s1` and `s2` are objects of that class. In other words, the class name `SimpleClass`, once defined, is used as a data type (much like `int`, `char`, `string`, etc) to create object variables such as`s1` and `s2`. The difference between this class and data types such as `int`, `char`, and `string` is that we created it ourselves. In a nutshell, this is what object-oriented programming is about: creating custom data types in the form of classes that model the real-world problem we are trying to solve.\n",
        "\n",
        "To access the public members of these objects, we use the **dot operator**, as you see in the statements below.\n",
        "\n",
        "```cpp\n",
        "s1.setData(500);\n",
        "s2.setData(187);\n",
        "s1.showData();\n",
        "s2.showData();\n",
        "```"
      ]
    },
    {
      "cell_type": "markdown",
      "metadata": {
        "id": "i0TzSa9rgiqr"
      },
      "source": [
        "We cannot, however, from outside the `SimpleClass` access its private member `someData`. Trying to do so results in errors. Uncommenting the statements below in the above program causes errors. Try that.\n",
        "\n",
        "```cpp\n",
        "/*\n",
        "cout << s1.someData;\n",
        "cout << s2.someData;\n",
        "*/\n",
        "```"
      ]
    },
    {
      "cell_type": "markdown",
      "source": [
        "Let's compile and run the above program:"
      ],
      "metadata": {
        "id": "h8tRE1-8huyQ"
      }
    },
    {
      "cell_type": "code",
      "source": [
        "!g++ -std=c++17 ex01.cpp -o ex01\n",
        "!./ex01"
      ],
      "metadata": {
        "id": "aVh8RzOahzkb",
        "outputId": "15dad33c-15ac-4a28-e29c-15bacc6c24f2",
        "colab": {
          "base_uri": "https://localhost:8080/"
        }
      },
      "execution_count": 28,
      "outputs": [
        {
          "output_type": "stream",
          "name": "stdout",
          "text": [
            "Data is 500\n",
            "Data is 187\n"
          ]
        }
      ]
    },
    {
      "cell_type": "markdown",
      "metadata": {
        "id": "xYyDv28bgiqt"
      },
      "source": [
        "## CODING CHALLENGE 1\n",
        "\n",
        "**Part1**: Write a class named `MyFirstClass` with two private data members: integer `number` and string `message`. There should be four public member functions: `setNumber`, `showNumber`, `setMessage`, and `showMessage` that are similar to the example above.\n",
        "\n",
        "**Part 2**: Using this class, create three objects, and use the `set...` member functions to pass values to their private data members and the `show...` member functions to print out the values of these data members."
      ]
    },
    {
      "cell_type": "code",
      "execution_count": 29,
      "metadata": {
        "id": "Lr0tnp0Lgiqu",
        "colab": {
          "base_uri": "https://localhost:8080/"
        },
        "outputId": "b7fb8d9e-7797-4f05-c1fe-094d87bc86cc"
      },
      "outputs": [
        {
          "output_type": "stream",
          "name": "stdout",
          "text": [
            "Overwriting ch01.cpp\n"
          ]
        }
      ],
      "source": [
        "%%writefile ch01.cpp\n",
        "#include <iostream>\n",
        "#include <string>\n",
        "using namespace std;\n",
        "\n",
        "// TODO: Part 1\n",
        "class MyFirstClass {\n",
        "private:\n",
        "    int number;\n",
        "    string message;\n",
        "\n",
        "public:\n",
        "    // Setter for number\n",
        "    void setNumber(int n) {\n",
        "        number = n;\n",
        "    }\n",
        "\n",
        "    // Display number\n",
        "    void showNumber() {\n",
        "        cout << \"Number: \" << number << endl;\n",
        "    }\n",
        "\n",
        "    // Setter for message\n",
        "    void setMessage(string m) {\n",
        "        message = m;\n",
        "    }\n",
        "\n",
        "    // Display message\n",
        "    void showMessage() {\n",
        "        cout << \"Message: \" << message << endl;\n",
        "    }\n",
        "};\n",
        "\n",
        "int main() {\n",
        "    // TODO: Part 2\n",
        "    MyFirstClass obj1, obj2, obj3;\n",
        "\n",
        "    // Set values for each object\n",
        "    obj1.setNumber(10);\n",
        "    obj1.setMessage(\"Hello, World!\");\n",
        "\n",
        "    obj2.setNumber(25);\n",
        "    obj2.setMessage(\"CS1410 is fun!\");\n",
        "\n",
        "    obj3.setNumber(99);\n",
        "    obj3.setMessage(\"Learning C++ classes!\");\n",
        "\n",
        "    // Display values for each object\n",
        "    cout << \"Object 1:\" << endl;\n",
        "    obj1.showNumber();\n",
        "    obj1.showMessage();\n",
        "\n",
        "    cout << \"\\nObject 2:\" << endl;\n",
        "    obj2.showNumber();\n",
        "    obj2.showMessage();\n",
        "\n",
        "    cout << \"\\nObject 3:\" << endl;\n",
        "    obj3.showNumber();\n",
        "    obj3.showMessage();\n",
        "\n",
        "    return 0;\n",
        "}\n"
      ]
    },
    {
      "cell_type": "code",
      "source": [
        "!g++ -std=c++17 ch01.cpp -o ch01\n",
        "!./ch01"
      ],
      "metadata": {
        "id": "RbjKSiNAiyi8"
      },
      "execution_count": 30,
      "outputs": []
    },
    {
      "cell_type": "markdown",
      "metadata": {
        "id": "qrtv191Egiqv"
      },
      "source": [
        "## Classes vs structures\n",
        "\n",
        "In C++, classes and structures are equivalent. The only difference is that by default the data and function members of structures are public while the data and function members of classes are private. Given the following structure, for instance:\n",
        "\n",
        "```c++\n",
        "struct SomeClass {\n",
        " int number;\n",
        " string name;\n",
        "};\n",
        "```\n",
        "\n",
        "is exactly the same as:\n",
        "\n",
        "```c++\n",
        "class SomeClass {\n",
        "public:\n",
        " int number;\n",
        " string name;\n",
        "};\n",
        "```\n",
        "\n",
        "In practice, we use structures when we only have public data members and classes for everything else."
      ]
    },
    {
      "cell_type": "markdown",
      "metadata": {
        "id": "vBNsZ20tgiqw"
      },
      "source": [
        "## CODING CHALLENGE 2\n",
        "\n",
        "In the code cell below, define a class that is equivalent to the following structure:\n",
        "\n",
        "```c++\n",
        "struct Time {\n",
        "    int hrs;\n",
        "    int min;\n",
        "    int sec;\n",
        "};\n",
        "```"
      ]
    },
    {
      "cell_type": "code",
      "execution_count": 31,
      "metadata": {
        "id": "tYG2p_a4giqx",
        "colab": {
          "base_uri": "https://localhost:8080/"
        },
        "outputId": "ad353eb0-bfce-411a-ae9a-9b64e70468ec"
      },
      "outputs": [
        {
          "output_type": "stream",
          "name": "stdout",
          "text": [
            "Overwriting ch02.cpp\n"
          ]
        }
      ],
      "source": [
        "%%writefile ch02.cpp\n",
        "#include <iostream>\n",
        "using namespace std;\n",
        "\n",
        "// TODO\n",
        "class Time {\n",
        "public:\n",
        "    int hrs;\n",
        "    int min;\n",
        "    int sec;\n",
        "};\n",
        "\n",
        "int main() {\n",
        "    // Example test\n",
        "    Time t;\n",
        "    t.hrs = 10;\n",
        "    t.min = 30;\n",
        "    t.sec = 45;\n",
        "\n",
        "    cout << \"Time: \" << t.hrs << \":\" << t.min << \":\" << t.sec << endl;\n",
        "    return 0;\n",
        "}\n"
      ]
    },
    {
      "cell_type": "markdown",
      "metadata": {
        "id": "3xeCCArugiqx"
      },
      "source": [
        "## Class constructors\n",
        "\n",
        "Here is a class that can be used to represent dates. The name of the class is `DateClass`. It has three private data members: `month`, `day`, and `year`. It also has two member functions: `setDate` which is used to set the values of the `month`, `day`, and `year`  members, and `showDate` which prints the date object in a MM/DD/YY format."
      ]
    },
    {
      "cell_type": "code",
      "execution_count": 32,
      "metadata": {
        "id": "PzOw7Dz2giqy",
        "outputId": "fce0fd22-653a-4971-dec1-dc571e1e9119",
        "colab": {
          "base_uri": "https://localhost:8080/"
        }
      },
      "outputs": [
        {
          "output_type": "stream",
          "name": "stdout",
          "text": [
            "Overwriting ex02.cpp\n"
          ]
        }
      ],
      "source": [
        "%%writefile ex02.cpp\n",
        "\n",
        "#include <iostream>\n",
        "#include <iomanip>\n",
        "#include <string>\n",
        "\n",
        "using namespace std;\n",
        "\n",
        "class DateClass {\n",
        "private:\n",
        "    int month, day, year;\n",
        "public:\n",
        "    void setDate(int mm, int dd, int yyyy){\n",
        "        month = mm;\n",
        "        day = dd;\n",
        "        year = yyyy;\n",
        "    }\n",
        "\n",
        "\n",
        "    void showDate() {\n",
        "        cout << \"The date is \" << setfill('0')\n",
        "             << setw(2) << month << '/'\n",
        "             << setw(2) << day << '/'\n",
        "             << setw(2) << year % 100 << endl;\n",
        "    }\n",
        "};\n",
        "\n",
        "int main() {\n"
      ]
    },
    {
      "cell_type": "markdown",
      "metadata": {
        "id": "QtfDv1cigiqy"
      },
      "source": [
        "Here is this class being used to create a date object:"
      ]
    },
    {
      "cell_type": "code",
      "execution_count": 33,
      "metadata": {
        "id": "A5gjDJqIgiqz",
        "outputId": "2a9a0533-cdd4-4e12-d426-4929d9d3cdad",
        "colab": {
          "base_uri": "https://localhost:8080/"
        }
      },
      "outputs": [
        {
          "output_type": "stream",
          "name": "stdout",
          "text": [
            "Appending to ex02.cpp\n"
          ]
        }
      ],
      "source": [
        "%%writefile -a ex02.cpp\n",
        "\n",
        "  DateClass d;\n",
        "  d.setDate(10, 12, 2018);\n",
        "  d.showDate();\n",
        "\n",
        "  return 0;\n",
        "}"
      ]
    },
    {
      "cell_type": "markdown",
      "metadata": {
        "id": "W2LDGxEXgiqz"
      },
      "source": [
        "Having to write two statements (or more) to create and initialize an object is too much especially if we have to do this for every object we create. Instead of:\n",
        "\n",
        "```c++\n",
        "DateClass d;\n",
        "d.setDate(10, 12, 2018);\n",
        "```\n",
        "can we have something like this?\n",
        "\n",
        "```c++\n",
        "DateClass d(10, 12, 2018);\n",
        "```\n",
        "\n",
        "It turns out: YES we can, thanks to **class constructors**. But what is a **constructor**?\n",
        "\n",
        "A constructor is a special member function with the following properties:\n",
        "* It has the same name as the class. So, our previous `DateClass` would have a constructor whose name is also `DateClass`\n",
        "* It has no return type (not even `void`) and therefore cannot return anything.\n",
        "* It gets called automatically by C++ when objects are created."
      ]
    },
    {
      "cell_type": "markdown",
      "source": [],
      "metadata": {
        "id": "VPfSWramj6bW"
      }
    },
    {
      "cell_type": "code",
      "source": [
        "!g++ -std=c++17 ex02.cpp -o ex02\n",
        "!./ex02"
      ],
      "metadata": {
        "id": "vzb4yXULj7Sm",
        "outputId": "624134c9-dbc6-4d3a-ba75-39d6dba2fc51",
        "colab": {
          "base_uri": "https://localhost:8080/"
        }
      },
      "execution_count": 34,
      "outputs": [
        {
          "output_type": "stream",
          "name": "stdout",
          "text": [
            "The date is 10/12/18\n"
          ]
        }
      ]
    },
    {
      "cell_type": "markdown",
      "source": [
        "Here is a class with a single no-argument constructor. This constructor initializes the private data members `count`, and `step` to 0 and 1 respectively."
      ],
      "metadata": {
        "id": "Qax8UDcYj-Ut"
      }
    },
    {
      "cell_type": "code",
      "execution_count": 35,
      "metadata": {
        "id": "peKrTTG3giq0",
        "outputId": "ea9a3385-1f98-4615-ec0d-b44c87aed7fc",
        "colab": {
          "base_uri": "https://localhost:8080/"
        }
      },
      "outputs": [
        {
          "output_type": "stream",
          "name": "stdout",
          "text": [
            "Overwriting ex03.cpp\n"
          ]
        }
      ],
      "source": [
        "%%writefile ex03.cpp\n",
        "\n",
        "#include <iostream>\n",
        "#include <iomanip>\n",
        "#include <string>\n",
        "\n",
        "using namespace std;\n",
        "\n",
        "class Counter {\n",
        "private:\n",
        "    unsigned int count;\n",
        "    int step;\n",
        "public:\n",
        "    Counter() : count(0), step(1) { // The constructor\n",
        "        cout << \"init -> count: \" << count << \", step: \"  << step << endl;\n",
        "    }\n",
        "\n",
        "    void increment() {\n",
        "        count += step;\n",
        "    }\n",
        "\n",
        "    int current() {\n",
        "        return count;\n",
        "    }\n",
        "\n",
        "    ~Counter() { // The destructor\n",
        "        cout << \"fini -> count: \" << count << \", step: \"  << step << endl;\n",
        "    }\n",
        "};\n",
        "\n",
        "int main() {\n"
      ]
    },
    {
      "cell_type": "markdown",
      "metadata": {
        "id": "T_YuWvvVgiq0"
      },
      "source": [
        "Again the constructor has the same name as the class. This constructor also looks different from other functions. It has a colon `:` right after the parentheses followed by `count(0), step(1)`) which looks like two function calls, but they are not. We call what is between the colon `:` and the opening brace `{` of the constructor an **initializer list**, which is a comma-separated list of initializations (like `count(0)` and `step(l)`) typically one for each data member. In this example, `count(0)` tells C++ to set the value of the `count` data member to 0. Similarly, `step(1)` tells C++ to set the value of the `step` data member to 1. This **initializer list** `: count(0), step(1)`  makes sure that data members `count` and `step` are properly initialized at the time of creating an object.\n",
        "\n",
        "The body of the constructor in this example is between the curly braces `{}`. Any code inside these braces will run but right after the object has been created.\n",
        "\n",
        "In C++, it is highly recommended that you initialize your data members using an **initializer list** instead of inside the constructor's curly braces `{}`.\n",
        "\n",
        "To see this class in action, let us create an object of it."
      ]
    },
    {
      "cell_type": "code",
      "execution_count": 36,
      "metadata": {
        "id": "jxC01vZKgiq1",
        "outputId": "6ed2beb4-18d0-4e3d-d5b0-5c1db3b8151d",
        "colab": {
          "base_uri": "https://localhost:8080/"
        }
      },
      "outputs": [
        {
          "output_type": "stream",
          "name": "stdout",
          "text": [
            "Appending to ex03.cpp\n"
          ]
        }
      ],
      "source": [
        "%%writefile -a ex03.cpp\n",
        "\n",
        "Counter c;\n",
        "c.increment();\n",
        "c.increment();\n",
        "c.increment();\n",
        "c.increment();"
      ]
    },
    {
      "cell_type": "markdown",
      "metadata": {
        "id": "uQ32MVVOgiq2"
      },
      "source": [
        "Alternatively we can create an object dynamically using the `new` operator and then use the arrow `->` operator to call the `increment` function."
      ]
    },
    {
      "cell_type": "code",
      "execution_count": 37,
      "metadata": {
        "id": "J1-wiJorgiq2",
        "outputId": "773ea1bc-7901-41f7-c23e-813cd1c0f4e1",
        "colab": {
          "base_uri": "https://localhost:8080/"
        }
      },
      "outputs": [
        {
          "output_type": "stream",
          "name": "stdout",
          "text": [
            "Appending to ex03.cpp\n"
          ]
        }
      ],
      "source": [
        "%%writefile -a ex03.cpp\n",
        "\n",
        "Counter *cptr = new Counter;\n",
        "cptr->increment();\n",
        "cptr->increment();\n",
        "cptr->increment();\n",
        "cptr->increment();"
      ]
    },
    {
      "cell_type": "markdown",
      "metadata": {
        "id": "a3x32vbygiq2"
      },
      "source": [
        "And when we no longer need this object, we delete it using the `delete` operator."
      ]
    },
    {
      "cell_type": "code",
      "execution_count": 38,
      "metadata": {
        "id": "m2n6ZdsUgiq3",
        "outputId": "2302bf36-0895-40a7-e281-f878f1993589",
        "colab": {
          "base_uri": "https://localhost:8080/"
        }
      },
      "outputs": [
        {
          "output_type": "stream",
          "name": "stdout",
          "text": [
            "Appending to ex03.cpp\n"
          ]
        }
      ],
      "source": [
        "%%writefile -a ex03.cpp\n",
        "\n",
        "  delete cptr;\n",
        "\n",
        "  return 0;\n",
        "}"
      ]
    },
    {
      "cell_type": "markdown",
      "source": [
        "Let's compile and run this program:"
      ],
      "metadata": {
        "id": "4g61ZdJZlEZL"
      }
    },
    {
      "cell_type": "code",
      "source": [
        "!g++ -std=c++17 ex03.cpp -o ex03\n",
        "!./ex03"
      ],
      "metadata": {
        "id": "QvDQWQuJlHpw",
        "outputId": "9f3d6695-e72e-4ae6-aaa1-a70889303124",
        "colab": {
          "base_uri": "https://localhost:8080/"
        }
      },
      "execution_count": 39,
      "outputs": [
        {
          "output_type": "stream",
          "name": "stdout",
          "text": [
            "init -> count: 0, step: 1\n",
            "init -> count: 0, step: 1\n",
            "fini -> count: 4, step: 1\n",
            "fini -> count: 4, step: 1\n"
          ]
        }
      ]
    },
    {
      "cell_type": "markdown",
      "metadata": {
        "id": "vyMn_Tx0giq3"
      },
      "source": [
        "## CODING CHALLENGE 3\n",
        "\n",
        "Copy the following class into the code cell below and change it so that it contains a no-argument constructor that initializes `month` to 1, `day` to also 1, and `year` to `1900`. After that create two objects of this class: one in the stack and another in the heap. Use  the **dot operator** and the **arrow** `->` operators with these objects respectively to call the `showDate()` function.\n",
        "\n",
        "```c++\n",
        "class DateClass2 {\n",
        "private:\n",
        "    int month, day, year;\n",
        "public:\n",
        "    void setDate(int mm, int dd, int yyyy){\n",
        "        month = mm;\n",
        "        day = dd;\n",
        "        year = yyyy;\n",
        "    }\n",
        "\n",
        "\n",
        "    void showDate() {\n",
        "        cout << \"The date is \" << setfill('0')\n",
        "             << setw(2) << month << '/'\n",
        "             << setw(2) << day << '/'\n",
        "             << setw(2) << year % 100 << endl;\n",
        "    }\n",
        "};\n",
        "```"
      ]
    },
    {
      "cell_type": "code",
      "execution_count": 40,
      "metadata": {
        "id": "31FZf6QDgiq4",
        "colab": {
          "base_uri": "https://localhost:8080/"
        },
        "outputId": "77d85515-cd81-4ff4-d7c1-a5084b16ae3e"
      },
      "outputs": [
        {
          "output_type": "stream",
          "name": "stdout",
          "text": [
            "Overwriting ch03.cpp\n"
          ]
        }
      ],
      "source": [
        "%%writefile ch03.cpp\n",
        "#include <iostream>\n",
        "#include <iomanip>\n",
        "using namespace std;\n",
        "\n",
        "// TODO: Class definition here\n",
        "class DateClass2 {\n",
        "private:\n",
        "    int month, day, year;\n",
        "\n",
        "public:\n",
        "    // No-argument constructor\n",
        "    DateClass2() {\n",
        "        month = 1;\n",
        "        day = 1;\n",
        "        year = 1900;\n",
        "    }\n",
        "\n",
        "    void setDate(int mm, int dd, int yyyy) {\n",
        "        month = mm;\n",
        "        day = dd;\n",
        "        year = yyyy;\n",
        "    }\n",
        "\n",
        "    void showDate() {\n",
        "        cout << \"The date is \" << setfill('0')\n",
        "             << setw(2) << month << '/'\n",
        "             << setw(2) << day << '/'\n",
        "             << setw(2) << year % 100 << endl;\n",
        "    }\n",
        "};\n",
        "\n",
        "int main() {\n",
        "    // TODO: Test class here\n",
        "\n",
        "    // Object created on the stack\n",
        "    DateClass2 stackDate;\n",
        "    stackDate.showDate();  // Using the dot operator\n",
        "\n",
        "    // Object created on the heap\n",
        "    DateClass2* heapDate = new DateClass2;\n",
        "    heapDate->showDate();  // Using the arrow operator\n",
        "\n",
        "    // Clean up heap memory\n",
        "    delete heapDate;\n",
        "\n",
        "    return 0;\n",
        "}\n"
      ]
    },
    {
      "cell_type": "code",
      "source": [
        "!g++ -std=c++17 ch03.cpp -o ch03\n",
        "!./ch03"
      ],
      "metadata": {
        "id": "ffcLUFf1l1eU"
      },
      "execution_count": 41,
      "outputs": []
    },
    {
      "cell_type": "markdown",
      "metadata": {
        "id": "G9d_jTsygiq4"
      },
      "source": [
        "## Class destructors\n",
        "\n",
        "C++ allows classes to define another special function called the **destructor**, that gets called automatically when an object goes out of scope or is destroyed (using the `delete` operator). This destructor:\n",
        "* has a name that starts with the tilde `~` character followed by the same name as the class\n",
        "* it does not take any arguments\n",
        "* it has no return type\n",
        "\n",
        "Here is an example destructor form the `Counter` class above (ex03.cpp):\n",
        "\n",
        "```c++\n",
        "    ~Counter() { // The destructor\n",
        "        cout << \"fini -> count: \" << count << \", step: \"  << step << endl;\n",
        "    }\n",
        "```\n",
        "\n",
        "To see the destructor in action, we can create an object inside curly braces to force it to go out of scope. This is because any object created inside two curly braces can only be used within these braces. So when the closing braces `}` is reached, the destructor is called.\n",
        "\n",
        "```cpp\n",
        "{\n",
        "    Counter c;\n",
        "    c.increment();\n",
        "    c.increment();\n",
        "    c.increment();\n",
        "    c.increment();\n",
        "}\n",
        "```\n",
        "\n",
        "Alternatively, we can create an object using the `new` operator and then `delete` it at the end. The destructor will be called automatically by the `delete` statement.\n",
        "\n",
        "```cpp\n",
        "Counter *c2 = new Counter;\n",
        "\n",
        "c2->increment();\n",
        "c2->increment();\n",
        "c2->increment();\n",
        "\n",
        "delete c2;\n",
        "```"
      ]
    },
    {
      "cell_type": "markdown",
      "metadata": {
        "id": "xsydG05Hgiq_"
      },
      "source": [
        "It is important to remember here that C++ will supply a **default constructor** with zero arguments and blank body to every class that does not define any constructor. C++ will also supply a **default destructor** for each class that does not provide one.\n",
        "\n",
        "## Overloaded constructors\n",
        "\n",
        "In C++, a class can have more than one constructor. This is because there might be more than one way to create/initialize objects of that class. We call these multiple constructors **overloaded constructors**.  \n",
        "\n",
        "On the other hand, unlike constructors, a destructor cannot be overloaded. In other words, a class can only have one destructor.\n",
        "\n",
        "Here is another date class with two constuctors: one without arguments and another with three arguments."
      ]
    },
    {
      "cell_type": "code",
      "execution_count": 42,
      "metadata": {
        "id": "9TjEtv5-girA",
        "colab": {
          "base_uri": "https://localhost:8080/"
        },
        "outputId": "76950d8e-edcc-4cc3-adbb-648d1345becb"
      },
      "outputs": [
        {
          "output_type": "stream",
          "name": "stdout",
          "text": [
            "Overwriting ex04.cpp\n"
          ]
        }
      ],
      "source": [
        "%%writefile ex04.cpp\n",
        "\n",
        "#include <iostream>\n",
        "#include <iomanip>\n",
        "#include <string>\n",
        "\n",
        "using namespace std;\n",
        "\n",
        "class Date {\n",
        "private:\n",
        "    int month, day, year;\n",
        "public:\n",
        "    Date() : month(1), day(1), year(1900) {} // Constructor # 1\n",
        "    Date(int mm, int dd, int yy) : month(mm), day(dd), year(yy) {}  // Constructor # 2\n",
        "\n",
        "    void showDate() {\n",
        "        cout << \"The date is \" << setfill('0')\n",
        "             << setw(2) << month << '/'\n",
        "             << setw(2) << day << '/'\n",
        "             << setw(2) << year % 100 << endl;\n",
        "    }\n",
        "\n",
        "    ~Date(){} // Destructor\n",
        "};"
      ]
    },
    {
      "cell_type": "markdown",
      "metadata": {
        "id": "kRLoNKsqgirA"
      },
      "source": [
        "Keep in mind that it is OK for a constructor or a destructor to have an empty body (with nothing between `{` and `}`) as you see here.\n",
        "\n",
        "Having these two constructors gives us two ways to create objects, one for each constructor."
      ]
    },
    {
      "cell_type": "code",
      "execution_count": 43,
      "metadata": {
        "id": "zah9pi22girB",
        "outputId": "02fbc61a-0343-4633-ca4c-9ffff0288672",
        "colab": {
          "base_uri": "https://localhost:8080/"
        }
      },
      "outputs": [
        {
          "output_type": "stream",
          "name": "stdout",
          "text": [
            "Appending to ex04.cpp\n"
          ]
        }
      ],
      "source": [
        "%%writefile -a ex04.cpp\n",
        "\n",
        "int main() {\n",
        "  // Using constructor #1\n",
        "  Date d1;\n",
        "  d1.showDate();\n",
        "\n",
        "  // Using constructor #2\n",
        "  Date d2(2, 17, 2019);\n",
        "  d2.showDate();\n",
        "\n",
        "  cout << endl;"
      ]
    },
    {
      "cell_type": "markdown",
      "metadata": {
        "id": "5cBAV1vJgirB"
      },
      "source": [
        "We also have two ways to create date objects using the `new` operator."
      ]
    },
    {
      "cell_type": "code",
      "execution_count": 44,
      "metadata": {
        "id": "YUKWr9PIgirB",
        "outputId": "5e296b85-7f76-45f5-e62a-e649c5e92e85",
        "colab": {
          "base_uri": "https://localhost:8080/"
        }
      },
      "outputs": [
        {
          "output_type": "stream",
          "name": "stdout",
          "text": [
            "Appending to ex04.cpp\n"
          ]
        }
      ],
      "source": [
        "%%writefile -a ex04.cpp\n",
        "\n",
        "  // Using constructor #1\n",
        "  Date *d3 = new Date;\n",
        "  d3->showDate();\n",
        "\n",
        "  // Using constructor #1\n",
        "  Date *d4 = new Date(2, 17, 2019);\n",
        "  d4->showDate();\n",
        "\n",
        "  delete d3, d4;\n",
        "\n",
        "  return 0;\n",
        "}"
      ]
    },
    {
      "cell_type": "code",
      "source": [
        "!g++ -std=c++17 ex04.cpp -o ex04\n",
        "!./ex04"
      ],
      "metadata": {
        "colab": {
          "base_uri": "https://localhost:8080/"
        },
        "id": "Ui3ZoQMioih6",
        "outputId": "5f42fe6e-92ae-47f0-f913-d55ac35a75b4"
      },
      "execution_count": 45,
      "outputs": [
        {
          "output_type": "stream",
          "name": "stdout",
          "text": [
            "The date is 01/01/00\n",
            "The date is 02/17/19\n",
            "\n",
            "The date is 01/01/00\n",
            "The date is 02/17/19\n"
          ]
        }
      ]
    },
    {
      "cell_type": "markdown",
      "metadata": {
        "id": "aFonoLvTgirD"
      },
      "source": [
        "As a final example, here is another, more complete, counter class."
      ]
    },
    {
      "cell_type": "code",
      "execution_count": 46,
      "metadata": {
        "id": "a1X4bGRAgirE",
        "colab": {
          "base_uri": "https://localhost:8080/"
        },
        "outputId": "28b9ae3a-a0a4-4fca-8ca5-f7acc85f83cc"
      },
      "outputs": [
        {
          "output_type": "stream",
          "name": "stdout",
          "text": [
            "Overwriting ex05.cpp\n"
          ]
        }
      ],
      "source": [
        "%%writefile ex05.cpp\n",
        "\n",
        "#include <iostream>\n",
        "#include <iomanip>\n",
        "#include <string>\n",
        "\n",
        "using namespace std;\n",
        "\n",
        "class BetterCounter{\n",
        "private:\n",
        "    unsigned count; int step;\n",
        "public:\n",
        "    BetterCounter() : count(0), step(1){} // Constructor # 1\n",
        "    BetterCounter(unsigned c) : count(c), step(1){} // Constructor # 2\n",
        "    BetterCounter(unsigned c, int s) : count(c), step(s){} // Constructor # 3\n",
        "\n",
        "    void increment(){ count = count + step; }\n",
        "    int current(){ return count; }\n",
        "\n",
        "    ~BetterCounter(){} // // Destructor\n",
        "};\n",
        "\n",
        "int main() {\n",
        "  BetterCounter* bc = new BetterCounter(11);\n",
        "  bc->increment();\n",
        "  cout << bc->current();\n",
        "  delete bc;\n",
        "\n",
        "  return 0;\n",
        "}"
      ]
    },
    {
      "cell_type": "code",
      "source": [
        "!g++ -std=c++17 ex05.cpp -o ex05\n",
        "!./ex05"
      ],
      "metadata": {
        "colab": {
          "base_uri": "https://localhost:8080/"
        },
        "id": "YofiVdu-rGra",
        "outputId": "9aef7c37-41cb-4e36-f08a-60fed9ec8a46"
      },
      "execution_count": 47,
      "outputs": [
        {
          "output_type": "stream",
          "name": "stdout",
          "text": [
            "12"
          ]
        }
      ]
    },
    {
      "cell_type": "markdown",
      "metadata": {
        "id": "jkCXIdC6girC"
      },
      "source": [
        "## CODING CHALLENGE 4\n",
        "\n",
        "In the code cell below, create a class named `Employee` with three private data members: id (an integer), name (a string), and age (a short integer). The class should have the following four constructors:\n",
        "* no-argument construcor that initializes `id` to 0, `name` to `\"noname\"`, and `age` to 18.\n",
        "* a one-argument construcor that takes an argument for  `id` and initializes `name` to `\"noname\"`, and `age` to 18.\n",
        "* a two-argument construcor that takes arguments for `id` and `name` and initializes `age` to 18.\n",
        "* a three-argument construcor that takes arguments for `id`, `name`, and `age`.\n",
        "\n",
        "This class should also have a function named `print` that prints out the values of `id`, `name`, and `age`."
      ]
    },
    {
      "cell_type": "code",
      "execution_count": 48,
      "metadata": {
        "id": "m4N0XwA7girC",
        "colab": {
          "base_uri": "https://localhost:8080/"
        },
        "outputId": "bcd5fa6c-fe5a-44b2-f0ac-f680470340ff"
      },
      "outputs": [
        {
          "output_type": "stream",
          "name": "stdout",
          "text": [
            "Overwriting ch04.cpp\n"
          ]
        }
      ],
      "source": [
        "%%writefile ch04.cpp\n",
        "#include <iostream>\n",
        "#include <iomanip>\n",
        "#include <string>\n",
        "using namespace std;\n",
        "\n",
        "// TODO: Define class here\n",
        "class Employee {\n",
        "private:\n",
        "    int id;\n",
        "    string name;\n",
        "    short age;\n",
        "\n",
        "public:\n",
        "    // 1️⃣ No-argument constructor\n",
        "    Employee() {\n",
        "        id = 0;\n",
        "        name = \"noname\";\n",
        "        age = 18;\n",
        "    }\n",
        "\n",
        "    // 2️⃣ One-argument constructor\n",
        "    Employee(int i) {\n",
        "        id = i;\n",
        "        name = \"noname\";\n",
        "        age = 18;\n",
        "    }\n",
        "\n",
        "    // 3️⃣ Two-argument constructor\n",
        "    Employee(int i, string n) {\n",
        "        id = i;\n",
        "        name = n;\n",
        "        age = 18;\n",
        "    }\n",
        "\n",
        "    // 4️⃣ Three-argument constructor\n",
        "    Employee(int i, string n, short a) {\n",
        "        id = i;\n",
        "        name = n;\n",
        "        age = a;\n",
        "    }\n",
        "\n",
        "    // Print function\n",
        "    void print() {\n",
        "        cout << \"ID: \" << id\n",
        "             << \", Name: \" << name\n",
        "             << \", Age: \" << age << endl;\n",
        "    }\n",
        "};\n",
        "\n",
        "int main() {\n",
        "    // Test each constructor\n",
        "    Employee e1;                   // no-argument\n",
        "    Employee e2(101);              // one-argument\n",
        "    Employee e3(102, \"Angel\");     // two-argument\n",
        "    Employee e4(103, \"Hanna\", 25); // three-argument\n",
        "\n",
        "    cout << \"Employee 1 -> \"; e1.print();\n",
        "    cout << \"Employee 2 -> \"; e2.print();\n",
        "    cout << \"Employee 3 -> \"; e3.print();\n",
        "    cout << \"Employee 4 -> \"; e4.print();\n",
        "\n",
        "    return 0;\n",
        "}\n"
      ]
    },
    {
      "cell_type": "markdown",
      "metadata": {
        "id": "19EqJaO7girC"
      },
      "source": [
        "Next, complete the TODO tasks below:"
      ]
    },
    {
      "cell_type": "code",
      "execution_count": 49,
      "metadata": {
        "id": "3BBMmUg8girD",
        "colab": {
          "base_uri": "https://localhost:8080/"
        },
        "outputId": "965b2718-0ad2-4043-9389-ab4da8b962ee"
      },
      "outputs": [
        {
          "output_type": "stream",
          "name": "stdout",
          "text": [
            "Appending to ch04.cpp\n"
          ]
        }
      ],
      "source": [
        "%%writefile -a ch04.cpp\n",
        "\n",
        "int main() {\n",
        "  // TODO: Create four objects without the `new` operator, one object per\n",
        "  //       constructor, and on each object call the `print` function.\n",
        "\n",
        "  Employee e1;                   // no-argument constructor\n",
        "  Employee e2(101);              // one-argument constructor\n",
        "  Employee e3(102, \"Angel\");     // two-argument constructor\n",
        "  Employee e4(103, \"Hanna\", 25); // three-argument constructor\n",
        "\n",
        "  cout << \"Objects created on the stack:\" << endl;\n",
        "  e1.print();\n",
        "  e2.print();\n",
        "  e3.print();\n",
        "  e4.print();\n",
        "\n",
        "  cout << endl;\n",
        "\n",
        "  // TODO: Create another four objects, this time, using the `new` operator,\n",
        "  //       one object per constructor, and on each object call the `print`\n",
        "  //       function.\n",
        "\n",
        "  Employee* p1 = new Employee();                    // no-argument\n",
        "  Employee* p2 = new Employee(201);                 // one-argument\n",
        "  Employee* p3 = new Employee(202, \"Michel\");       // two-argument\n",
        "  Employee* p4 = new Employee(203, \"Zelda\", 30);    // three-argument\n",
        "\n",
        "  cout << \"Objects created on the heap:\" << endl;\n",
        "  p1->print();\n",
        "  p2->print();\n",
        "  p3->print();\n",
        "  p4->print();\n",
        "\n",
        "  // Clean up heap memory\n",
        "  delete p1;\n",
        "  delete p2;\n",
        "  delete p3;\n",
        "  delete p4;\n",
        "\n",
        "  return 0;\n",
        "}\n"
      ]
    },
    {
      "cell_type": "code",
      "source": [
        "!g++ -std=c++17 ch04.cpp -o ch04\n",
        "!./ch04"
      ],
      "metadata": {
        "id": "d6BXZjZmpVHK"
      },
      "execution_count": 50,
      "outputs": []
    },
    {
      "cell_type": "markdown",
      "metadata": {
        "id": "ccGGgugLgirF"
      },
      "source": [
        "## `const` member functions\n",
        "In C++, it is recommended to make any member function that does not change any of the data members a `const` function. This is to prevent accidental changes to objects from happening and to be explicit about what these functions can and cannot do. To make a member function `const`, we add the `const` keyword to the end of the function header (right after the parenthesis-enclosed parameter list). Notice that this `const` keyword at the end of the function header is a part of the function signature and needs to be in both the function prototype and the function definition.\n",
        "\n",
        "Here is another version of the `Date` class with the `showDate` function being a `const` function by adding `const` to the end of its header in both its prototype and definition. We do this because this function is not supposed to change the date object; it only displays it in a certain format.\n",
        "\n",
        "```cpp\n",
        "#include <iostream>\n",
        "#include <iomanip>\n",
        "#include <string>\n",
        "\n",
        "using namespace std;\n",
        "\n",
        "class Date2 {\n",
        "private:\n",
        "    int month, day, year;\n",
        "public:\n",
        "    Date2() : month(1), day(1), year(1900) {} // Constructor # 1\n",
        "    Date2(int mm, int dd, int yy) : month(mm), day(dd), year(yy) {}  // Constructor # 2\n",
        "\n",
        "    void showDate() const; // A const function prototype\n",
        "\n",
        "    ~Date2(){} // Destructor\n",
        "};\n",
        "\n",
        "// A const function definition\n",
        "void Date2::showDate() const {\n",
        "    cout << \"The date is \" << setfill('0')\n",
        "         << setw(2) << month << '/'\n",
        "         << setw(2) << day << '/'\n",
        "         << setw(2) << year % 100 << endl;\n",
        "}\n",
        "```"
      ]
    },
    {
      "cell_type": "markdown",
      "metadata": {
        "id": "_ukRprAUgirG"
      },
      "source": [
        "Another common example of `const` functions is the class **accessor** or **getter** functions."
      ]
    },
    {
      "cell_type": "markdown",
      "metadata": {
        "id": "-zKuVXF5girG"
      },
      "source": [
        "## Accessors and mutators\n",
        "For classes with private data members, we need a controlled and safe way to read and write the values of these members outside the classes. To do that we rely on **accessors** and **mutators**, with one accessor and mutator for each private data member.\n",
        "\n",
        "**Accessors**, which are sometimes called **getters**, are public functions giving access to (or returning values of) their private data members.\n",
        "* They typically but not necessarily have names that start with the word **get** (or the word **is** for `bool` data members); thus the name **getters**.\n",
        "* They take no arguments.\n",
        "* They are read-only functions and should not change any of their objects' data members. In other words, they should be `const` functions by having the `const` keyword after the parenthesis-enclosed parameter list to indicate that these functions do not change the data members of the objects they are called on.\n",
        "* Their return types are the same as that of their data members. When their data members have non-primitive data types, they return `const` references to their data members. This is to avoid copying the actual values for better performance, while at the same time protecting these values from being changed outside the class.\n",
        "\n",
        "Here is an example:\n",
        "\n",
        "```cpp\n",
        "class Card {\n",
        "private:\n",
        "    long cardNumber;\n",
        "    string cardName;\n",
        "    bool active;\n",
        "\n",
        "public:\n",
        "    long getCardNumber() const {\n",
        "        return cardNumber;\n",
        "    }\n",
        "\n",
        "    const string& getCardName() const {\n",
        "        return cardName;\n",
        "    }\n",
        "\n",
        "    bool isActive() const {\n",
        "        return active;\n",
        "    }\n",
        "};\n",
        "```"
      ]
    },
    {
      "cell_type": "markdown",
      "metadata": {
        "id": "HhfIu70ggirI"
      },
      "source": [
        "**Mutators**, which are sometimes called **setters**, are public functions that change the values of their private data members:\n",
        "* They typically have names that start with the word **set**; thus the name **setters**.\n",
        "* They return `void`.\n",
        "* They take single arguments whose data types match those of their data members. When their data members have non-primitive data types, their arguments should be `const` references. This is to pass these arguments by reference, for performance, while protecting them from being changed inside these functions.\n",
        "\n",
        "Here is an example:\n",
        "\n",
        "```cpp\n",
        "class AnotherCard {\n",
        "private:\n",
        "    long cardNumber;\n",
        "    string cardName;\n",
        "    bool active;\n",
        "\n",
        "public:\n",
        "    void setCardNumber(long number) {\n",
        "        cardNumber = number;\n",
        "    }\n",
        "\n",
        "    void setCardName(const string &name) {\n",
        "        cardName = name;\n",
        "    }\n",
        "\n",
        "    void setActive(bool active) {\n",
        "        AnotherCard::active = active;\n",
        "    }\n",
        "};\n",
        "```"
      ]
    }
  ],
  "metadata": {
    "kernelspec": {
      "display_name": "Python 3",
      "name": "python3"
    },
    "language_info": {
      "name": "python"
    },
    "colab": {
      "provenance": [],
      "toc_visible": true
    }
  },
  "nbformat": 4,
  "nbformat_minor": 0
}